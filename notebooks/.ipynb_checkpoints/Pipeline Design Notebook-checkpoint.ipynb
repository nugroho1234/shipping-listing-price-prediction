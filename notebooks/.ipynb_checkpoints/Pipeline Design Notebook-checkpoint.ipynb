{
 "cells": [
  {
   "cell_type": "code",
   "execution_count": 1,
   "id": "d30ef37b",
   "metadata": {},
   "outputs": [
    {
     "ename": "ModuleNotFoundError",
     "evalue": "No module named 'helper'",
     "output_type": "error",
     "traceback": [
      "\u001b[1;31m---------------------------------------------------------------------------\u001b[0m",
      "\u001b[1;31mModuleNotFoundError\u001b[0m                       Traceback (most recent call last)",
      "Cell \u001b[1;32mIn[1], line 6\u001b[0m\n\u001b[0;32m      4\u001b[0m \u001b[38;5;28;01mimport\u001b[39;00m \u001b[38;5;21;01mpickle\u001b[39;00m\n\u001b[0;32m      5\u001b[0m \u001b[38;5;28;01mimport\u001b[39;00m \u001b[38;5;21;01mpandas\u001b[39;00m \u001b[38;5;28;01mas\u001b[39;00m \u001b[38;5;21;01mpd\u001b[39;00m\n\u001b[1;32m----> 6\u001b[0m \u001b[38;5;28;01mimport\u001b[39;00m \u001b[38;5;21;01mhelper\u001b[39;00m\n",
      "\u001b[1;31mModuleNotFoundError\u001b[0m: No module named 'helper'"
     ]
    }
   ],
   "source": [
    "from tensorflow.keras.utils import FeatureSpace\n",
    "from tensorflow.keras.models import load_model\n",
    "import tensorflow as tf\n",
    "import pickle\n",
    "import pandas as pd\n",
    "import helper"
   ]
  },
  {
   "cell_type": "code",
   "execution_count": null,
   "id": "85b7b7d2",
   "metadata": {},
   "outputs": [],
   "source": [
    "reconstructed_model = load_model(\"model/inference_model.keras\")"
   ]
  },
  {
   "cell_type": "code",
   "execution_count": null,
   "id": "8e593949",
   "metadata": {},
   "outputs": [],
   "source": [
    "#load tfidf_vectorizer, transform the description column\n",
    "fileName = 'model/tfidf_vectorizer.pkl'\n",
    "with open(fileName,'rb') as f:\n",
    "    tfidf_object = pickle.load(f)"
   ]
  },
  {
   "cell_type": "code",
   "execution_count": null,
   "id": "d35a8c28",
   "metadata": {},
   "outputs": [],
   "source": [
    "fileName = 'model/price_by_hull_material.pkl'\n",
    "with open(fileName,'rb') as f:\n",
    "    price_by_hull_material = pickle.load(f)\n",
    "\n",
    "average_value_hull_material = sum(price_by_hull_material.values()) / len(price_by_hull_material)\n",
    "\n",
    "fileName = 'model/price_by_fuel_type.pkl'\n",
    "with open(fileName,'rb') as f:\n",
    "    price_by_fuel_type = pickle.load(f)\n",
    "\n",
    "average_value_fuel_type = sum(price_by_fuel_type.values()) / len(price_by_fuel_type)\n",
    "\n",
    "fileName = 'model/price_by_category.pkl'\n",
    "with open(fileName,'rb') as f:\n",
    "    price_by_category = pickle.load(f)\n",
    "\n",
    "average_value_category = sum(price_by_category.values()) / len(price_by_category)"
   ]
  },
  {
   "cell_type": "code",
   "execution_count": null,
   "id": "99bba94a",
   "metadata": {},
   "outputs": [],
   "source": [
    "input_dict = {\n",
    "    'year': 2010.0,\n",
    "    'model': 'Sailing Yacht',\n",
    "    'category':'Slup Boote',\n",
    "    'length': 70.,\n",
    "    'fuel_type': 'Diesel',\n",
    "    'hull_material': 'Steel',\n",
    "    'country': 'Turkey',\n",
    "    'description': 'The Futuna 70 ICHTUS has been designed for a precise purpose; a shorthanded trip around the world. Designed by famous naval architect Marc Lombard, she proved to be a quick and (very) beautiful sailing yacht. She is also comfortable, fast and easy to handle despite her length, with fresh water and energy self-sufficiency.Under her new ownership since the end of 2016, ICHTUS undertook a major refit with a complete refurbishment & upgrade in 2017',\n",
    "}"
   ]
  },
  {
   "cell_type": "code",
   "execution_count": null,
   "id": "cbcc30c1",
   "metadata": {},
   "outputs": [],
   "source": [
    "sample = helper.build_pred_dict(input_dict, tfidf_object, price_by_hull_material, price_by_fuel_type, price_by_category)"
   ]
  },
  {
   "cell_type": "code",
   "execution_count": null,
   "id": "327e198e",
   "metadata": {},
   "outputs": [],
   "source": [
    "reconstructed_model.predict(sample)"
   ]
  }
 ],
 "metadata": {
  "kernelspec": {
   "display_name": "ML Projects Env",
   "language": "python",
   "name": "mlprojects_env"
  },
  "language_info": {
   "codemirror_mode": {
    "name": "ipython",
    "version": 3
   },
   "file_extension": ".py",
   "mimetype": "text/x-python",
   "name": "python",
   "nbconvert_exporter": "python",
   "pygments_lexer": "ipython3",
   "version": "3.11.4"
  }
 },
 "nbformat": 4,
 "nbformat_minor": 5
}
