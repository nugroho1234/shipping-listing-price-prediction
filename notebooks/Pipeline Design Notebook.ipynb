{
 "cells": [
  {
   "cell_type": "code",
   "execution_count": 1,
   "id": "d30ef37b",
   "metadata": {},
   "outputs": [],
   "source": [
    "from tensorflow.keras.utils import FeatureSpace\n",
    "from tensorflow.keras.models import load_model\n",
    "import tensorflow as tf\n",
    "import pickle\n",
    "import pandas as pd\n",
    "import numpy as np\n",
    "\n",
    "import sys\n",
    "import os\n",
    "\n",
    "parent_dir = os.path.abspath(os.path.join(os.getcwd(), os.pardir))\n",
    "sys.path.append(parent_dir)\n",
    "\n",
    "import helper\n",
    "import json\n",
    "import requests"
   ]
  },
  {
   "cell_type": "code",
   "execution_count": 2,
   "id": "85b7b7d2",
   "metadata": {},
   "outputs": [],
   "source": [
    "reconstructed_model = load_model(parent_dir + '\\\\' + \"model/inference_model.keras\")"
   ]
  },
  {
   "cell_type": "code",
   "execution_count": 3,
   "id": "8e593949",
   "metadata": {},
   "outputs": [],
   "source": [
    "#load tfidf_vectorizer, transform the description column\n",
    "fileName = parent_dir + '\\\\' + 'model/tfidf_vectorizer.pkl'\n",
    "with open(fileName,'rb') as f:\n",
    "    tfidf_object = pickle.load(f)"
   ]
  },
  {
   "cell_type": "code",
   "execution_count": 4,
   "id": "d35a8c28",
   "metadata": {},
   "outputs": [],
   "source": [
    "fileName = parent_dir + '\\\\' + 'model/price_by_hull_material.pkl'\n",
    "with open(fileName,'rb') as f:\n",
    "    price_by_hull_material = pickle.load(f)\n",
    "\n",
    "average_value_hull_material = sum(price_by_hull_material.values()) / len(price_by_hull_material)\n",
    "\n",
    "fileName = parent_dir + '\\\\' + 'model/price_by_fuel_type.pkl'\n",
    "with open(fileName,'rb') as f:\n",
    "    price_by_fuel_type = pickle.load(f)\n",
    "\n",
    "average_value_fuel_type = sum(price_by_fuel_type.values()) / len(price_by_fuel_type)\n",
    "\n",
    "fileName = parent_dir + '\\\\' + 'model/price_by_category.pkl'\n",
    "with open(fileName,'rb') as f:\n",
    "    price_by_category = pickle.load(f)\n",
    "\n",
    "average_value_category = sum(price_by_category.values()) / len(price_by_category)"
   ]
  },
  {
   "cell_type": "code",
   "execution_count": 5,
   "id": "99bba94a",
   "metadata": {},
   "outputs": [],
   "source": [
    "input_dict = {\n",
    "    'year': 2010.0,\n",
    "    'model': 'Sailing Yacht',\n",
    "    'category':'Slup Boote',\n",
    "    'length': 70.,\n",
    "    'fuel_type': 'Diesel',\n",
    "    'hull_material': 'Steel',\n",
    "    'country': 'Turkey',\n",
    "    'description': 'The Futuna 70 ICHTUS has been designed for a precise purpose; a shorthanded trip around the world. Designed by famous naval architect Marc Lombard, she proved to be a quick and (very) beautiful sailing yacht. She is also comfortable, fast and easy to handle despite her length, with fresh water and energy self-sufficiency.Under her new ownership since the end of 2016, ICHTUS undertook a major refit with a complete refurbishment & upgrade in 2017',\n",
    "}"
   ]
  },
  {
   "cell_type": "code",
   "execution_count": 6,
   "id": "cbcc30c1",
   "metadata": {},
   "outputs": [],
   "source": [
    "sample, pred_dict = helper.build_pred_dict(input_dict, tfidf_object, price_by_hull_material, price_by_fuel_type, price_by_category)"
   ]
  },
  {
   "cell_type": "code",
   "execution_count": 7,
   "id": "01301d5d",
   "metadata": {},
   "outputs": [
    {
     "data": {
      "text/plain": [
       "{'year': <tf.Tensor: shape=(1,), dtype=float32, numpy=array([2010.], dtype=float32)>,\n",
       " 'model': <tf.Tensor: shape=(1,), dtype=string, numpy=array([b'sailing_yacht'], dtype=object)>,\n",
       " 'category': <tf.Tensor: shape=(1,), dtype=string, numpy=array([b'slup_boote'], dtype=object)>,\n",
       " 'length': <tf.Tensor: shape=(1,), dtype=float32, numpy=array([70.], dtype=float32)>,\n",
       " 'fuel_type': <tf.Tensor: shape=(1,), dtype=string, numpy=array([b'diesel'], dtype=object)>,\n",
       " 'hull_material': <tf.Tensor: shape=(1,), dtype=string, numpy=array([b'steel'], dtype=object)>,\n",
       " 'country': <tf.Tensor: shape=(1,), dtype=string, numpy=array([b'turkey'], dtype=object)>,\n",
       " 'noun_counts': <tf.Tensor: shape=(1,), dtype=float32, numpy=array([23.], dtype=float32)>,\n",
       " 'verb_counts': <tf.Tensor: shape=(1,), dtype=float32, numpy=array([1.], dtype=float32)>,\n",
       " 'adjective_counts': <tf.Tensor: shape=(1,), dtype=float32, numpy=array([12.], dtype=float32)>,\n",
       " 'bilge_pump': <tf.Tensor: shape=(1,), dtype=float32, numpy=array([0.], dtype=float32)>,\n",
       " 'deck_finish': <tf.Tensor: shape=(1,), dtype=float32, numpy=array([0.], dtype=float32)>,\n",
       " 'fuel_tank': <tf.Tensor: shape=(1,), dtype=float32, numpy=array([0.], dtype=float32)>,\n",
       " 'good_condition': <tf.Tensor: shape=(1,), dtype=float32, numpy=array([0.], dtype=float32)>,\n",
       " 'level_indicator': <tf.Tensor: shape=(1,), dtype=float32, numpy=array([0.], dtype=float32)>,\n",
       " 'material_grp': <tf.Tensor: shape=(1,), dtype=float32, numpy=array([0.], dtype=float32)>,\n",
       " 'sailing_yacht': <tf.Tensor: shape=(1,), dtype=float32, numpy=array([1.], dtype=float32)>,\n",
       " 'stainless_steel': <tf.Tensor: shape=(1,), dtype=float32, numpy=array([0.], dtype=float32)>,\n",
       " 'tank_litre': <tf.Tensor: shape=(1,), dtype=float32, numpy=array([0.], dtype=float32)>,\n",
       " 'teak_cockpit': <tf.Tensor: shape=(1,), dtype=float32, numpy=array([0.], dtype=float32)>,\n",
       " 'avg_price_by_hull_material': <tf.Tensor: shape=(1,), dtype=float32, numpy=array([173764.84], dtype=float32)>,\n",
       " 'avg_price_by_fuel_type': <tf.Tensor: shape=(1,), dtype=float32, numpy=array([172026.98], dtype=float32)>,\n",
       " 'avg_price_by_category': <tf.Tensor: shape=(1,), dtype=float32, numpy=array([162532.1], dtype=float32)>}"
      ]
     },
     "execution_count": 7,
     "metadata": {},
     "output_type": "execute_result"
    }
   ],
   "source": [
    "sample"
   ]
  },
  {
   "cell_type": "code",
   "execution_count": 8,
   "id": "711d8fdd",
   "metadata": {},
   "outputs": [
    {
     "name": "stdout",
     "output_type": "stream",
     "text": [
      "1/1 [==============================] - 1s 511ms/step\n"
     ]
    },
    {
     "data": {
      "text/plain": [
       "array([[1995156.5]], dtype=float32)"
      ]
     },
     "execution_count": 8,
     "metadata": {},
     "output_type": "execute_result"
    }
   ],
   "source": [
    "reconstructed_model.predict(sample)"
   ]
  },
  {
   "cell_type": "code",
   "execution_count": 9,
   "id": "ec058283",
   "metadata": {},
   "outputs": [],
   "source": [
    "url = 'http://localhost:8000/predict'"
   ]
  },
  {
   "cell_type": "code",
   "execution_count": 10,
   "id": "809d3871",
   "metadata": {},
   "outputs": [],
   "source": [
    "response = requests.post(\n",
    "    url,\n",
    "    json=input_dict,  # Serialize the input_dict as JSON\n",
    "    headers={\"Content-Type\": \"application/json\"}  # Set the appropriate Content-Type header\n",
    ")"
   ]
  },
  {
   "cell_type": "code",
   "execution_count": 11,
   "id": "d19f90d7",
   "metadata": {},
   "outputs": [
    {
     "name": "stdout",
     "output_type": "stream",
     "text": [
      "Request was successful\n"
     ]
    }
   ],
   "source": [
    "if response.status_code == 200:\n",
    "    print(\"Request was successful\")\n",
    "else:\n",
    "    print(\"Request failed with status code:\", response.status_code)"
   ]
  },
  {
   "cell_type": "code",
   "execution_count": 12,
   "id": "3138d282",
   "metadata": {},
   "outputs": [
    {
     "data": {
      "text/plain": [
       "{'predicted_price': '1995156.5'}"
      ]
     },
     "execution_count": 12,
     "metadata": {},
     "output_type": "execute_result"
    }
   ],
   "source": [
    "response.json()"
   ]
  }
 ],
 "metadata": {
  "kernelspec": {
   "display_name": "ML Projects Env",
   "language": "python",
   "name": "mlprojects_env"
  },
  "language_info": {
   "codemirror_mode": {
    "name": "ipython",
    "version": 3
   },
   "file_extension": ".py",
   "mimetype": "text/x-python",
   "name": "python",
   "nbconvert_exporter": "python",
   "pygments_lexer": "ipython3",
   "version": "3.11.4"
  }
 },
 "nbformat": 4,
 "nbformat_minor": 5
}
