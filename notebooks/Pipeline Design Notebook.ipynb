{
 "cells": [
  {
   "cell_type": "code",
   "execution_count": 10,
   "id": "d30ef37b",
   "metadata": {},
   "outputs": [],
   "source": [
    "from tensorflow.keras.utils import FeatureSpace\n",
    "from tensorflow.keras.models import load_model\n",
    "import tensorflow as tf\n",
    "import pickle\n",
    "import pandas as pd\n",
    "import numpy as np\n",
    "\n",
    "import sys\n",
    "import os\n",
    "\n",
    "parent_dir = os.path.abspath(os.path.join(os.getcwd(), os.pardir))\n",
    "sys.path.append(parent_dir)\n",
    "\n",
    "import helper"
   ]
  },
  {
   "cell_type": "code",
   "execution_count": 3,
   "id": "85b7b7d2",
   "metadata": {},
   "outputs": [],
   "source": [
    "reconstructed_model = load_model(parent_dir + '\\\\' + \"model/inference_model.keras\")"
   ]
  },
  {
   "cell_type": "code",
   "execution_count": 4,
   "id": "8e593949",
   "metadata": {},
   "outputs": [],
   "source": [
    "#load tfidf_vectorizer, transform the description column\n",
    "fileName = parent_dir + '\\\\' + 'model/tfidf_vectorizer.pkl'\n",
    "with open(fileName,'rb') as f:\n",
    "    tfidf_object = pickle.load(f)"
   ]
  },
  {
   "cell_type": "code",
   "execution_count": 5,
   "id": "d35a8c28",
   "metadata": {},
   "outputs": [],
   "source": [
    "fileName = parent_dir + '\\\\' + 'model/price_by_hull_material.pkl'\n",
    "with open(fileName,'rb') as f:\n",
    "    price_by_hull_material = pickle.load(f)\n",
    "\n",
    "average_value_hull_material = sum(price_by_hull_material.values()) / len(price_by_hull_material)\n",
    "\n",
    "fileName = parent_dir + '\\\\' + 'model/price_by_fuel_type.pkl'\n",
    "with open(fileName,'rb') as f:\n",
    "    price_by_fuel_type = pickle.load(f)\n",
    "\n",
    "average_value_fuel_type = sum(price_by_fuel_type.values()) / len(price_by_fuel_type)\n",
    "\n",
    "fileName = parent_dir + '\\\\' + 'model/price_by_category.pkl'\n",
    "with open(fileName,'rb') as f:\n",
    "    price_by_category = pickle.load(f)\n",
    "\n",
    "average_value_category = sum(price_by_category.values()) / len(price_by_category)"
   ]
  },
  {
   "cell_type": "code",
   "execution_count": 6,
   "id": "99bba94a",
   "metadata": {},
   "outputs": [],
   "source": [
    "input_dict = {\n",
    "    'year': 2010.0,\n",
    "    'model': 'Sailing Yacht',\n",
    "    'category':'Slup Boote',\n",
    "    'length': 70.,\n",
    "    'fuel_type': 'Diesel',\n",
    "    'hull_material': 'Steel',\n",
    "    'country': 'Turkey',\n",
    "    'description': 'The Futuna 70 ICHTUS has been designed for a precise purpose; a shorthanded trip around the world. Designed by famous naval architect Marc Lombard, she proved to be a quick and (very) beautiful sailing yacht. She is also comfortable, fast and easy to handle despite her length, with fresh water and energy self-sufficiency.Under her new ownership since the end of 2016, ICHTUS undertook a major refit with a complete refurbishment & upgrade in 2017',\n",
    "}"
   ]
  },
  {
   "cell_type": "code",
   "execution_count": 7,
   "id": "cbcc30c1",
   "metadata": {},
   "outputs": [],
   "source": [
    "sample = helper.build_pred_dict(input_dict, tfidf_object, price_by_hull_material, price_by_fuel_type, price_by_category)"
   ]
  },
  {
   "cell_type": "code",
   "execution_count": 8,
   "id": "327e198e",
   "metadata": {},
   "outputs": [
    {
     "name": "stdout",
     "output_type": "stream",
     "text": [
      "1/1 [==============================] - 0s 405ms/step\n"
     ]
    },
    {
     "data": {
      "text/plain": [
       "array([[2035009.9]], dtype=float32)"
      ]
     },
     "execution_count": 8,
     "metadata": {},
     "output_type": "execute_result"
    }
   ],
   "source": [
    "reconstructed_model.predict(sample)"
   ]
  },
  {
   "cell_type": "code",
   "execution_count": 11,
   "id": "f8218368",
   "metadata": {},
   "outputs": [],
   "source": [
    "import json\n",
    "# define a class to avoid that\n",
    "class NpEncoder(json.JSONEncoder):\n",
    "    def default(self, obj):\n",
    "        if isinstance(obj, np.integer):\n",
    "            return int(obj)\n",
    "        if isinstance(obj, np.floating):\n",
    "            return float(obj)\n",
    "        if isinstance(obj, np.ndarray):\n",
    "            return obj.tolist()\n",
    "        return super(NpEncoder, self).default(obj)\n",
    "    \n",
    "payload = json.dumps(input_dict,cls=NpEncoder)"
   ]
  },
  {
   "cell_type": "code",
   "execution_count": 12,
   "id": "cf366eff",
   "metadata": {},
   "outputs": [
    {
     "data": {
      "text/plain": [
       "'{\"year\": 2010.0, \"model\": \"Sailing Yacht\", \"category\": \"Slup Boote\", \"length\": 70.0, \"fuel_type\": \"Diesel\", \"hull_material\": \"Steel\", \"country\": \"Turkey\", \"description\": \"The Futuna 70 ICHTUS has been designed for a precise purpose; a shorthanded trip around the world. Designed by famous naval architect Marc Lombard, she proved to be a quick and (very) beautiful sailing yacht. She is also comfortable, fast and easy to handle despite her length, with fresh water and energy self-sufficiency.Under her new ownership since the end of 2016, ICHTUS undertook a major refit with a complete refurbishment & upgrade in 2017\"}'"
      ]
     },
     "execution_count": 12,
     "metadata": {},
     "output_type": "execute_result"
    }
   ],
   "source": [
    "payload"
   ]
  }
 ],
 "metadata": {
  "kernelspec": {
   "display_name": "ML Projects Env",
   "language": "python",
   "name": "mlprojects_env"
  },
  "language_info": {
   "codemirror_mode": {
    "name": "ipython",
    "version": 3
   },
   "file_extension": ".py",
   "mimetype": "text/x-python",
   "name": "python",
   "nbconvert_exporter": "python",
   "pygments_lexer": "ipython3",
   "version": "3.11.4"
  }
 },
 "nbformat": 4,
 "nbformat_minor": 5
}
