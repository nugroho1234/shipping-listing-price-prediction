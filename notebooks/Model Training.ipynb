{
 "cells": [
  {
   "cell_type": "code",
   "execution_count": 1,
   "id": "00e417cf",
   "metadata": {},
   "outputs": [],
   "source": [
    "#standard libraries\n",
    "import sys\n",
    "import os\n",
    "\n",
    "parent_dir = os.path.abspath(os.path.join(os.getcwd(), os.pardir))\n",
    "sys.path.append(parent_dir)\n",
    "\n",
    "import pandas as pd\n",
    "import numpy as np\n",
    "import re\n",
    "import pickle\n",
    "from unidecode import unidecode\n",
    "import matplotlib.pyplot as plt\n",
    "\n",
    "#sklearn\n",
    "from sklearn.feature_extraction.text import TfidfVectorizer\n",
    "from sklearn.neighbors import NearestNeighbors\n",
    "\n",
    "#nltk\n",
    "import nltk\n",
    "from nltk.corpus import stopwords\n",
    "from collections import Counter\n",
    "from langdetect import detect\n",
    "\n",
    "#preprocessing and feature extraction\n",
    "import helper\n",
    "\n",
    "#tensorflow\n",
    "import tensorflow as tf\n",
    "import tensorflow.keras as keras\n",
    "\n",
    "from tensorflow.keras.utils import FeatureSpace\n",
    "\n",
    "from tensorflow import feature_column as fc\n",
    "from tensorflow.keras import layers\n",
    "from sklearn.model_selection import train_test_split\n",
    "\n",
    "\n",
    "\n",
    "import random\n",
    "random.seed(42)"
   ]
  },
  {
   "cell_type": "code",
   "execution_count": 2,
   "id": "ae46955a",
   "metadata": {},
   "outputs": [],
   "source": [
    "df = pd.read_csv(parent_dir + '\\\\' + 'data/online_ship_listing_data.csv')"
   ]
  },
  {
   "cell_type": "code",
   "execution_count": 3,
   "id": "ca450e58",
   "metadata": {},
   "outputs": [
    {
     "name": "stdout",
     "output_type": "stream",
     "text": [
      "1184 train examples\n",
      "296 validation examples\n",
      "370 test examples\n"
     ]
    }
   ],
   "source": [
    "#splitting the dataframe\n",
    "train, test = train_test_split(df, test_size=0.2)\n",
    "train, val = train_test_split(train, test_size=0.2)\n",
    "\n",
    "print(len(train), 'train examples')\n",
    "print(len(val), 'validation examples')\n",
    "print(len(test), 'test examples')"
   ]
  },
  {
   "cell_type": "code",
   "execution_count": 4,
   "id": "3bac7ce0",
   "metadata": {},
   "outputs": [],
   "source": [
    "def df_to_dataset(df, shuffle=True, batch_size=32):\n",
    "    df = df.copy()\n",
    "    \n",
    "    df = helper.preprocess_df(df)\n",
    "    df, all_cols = helper.create_features(df)\n",
    "    labels = df.pop('price')\n",
    "    ds = tf.data.Dataset.from_tensor_slices((dict(df), labels))\n",
    "    if shuffle:\n",
    "        ds = ds.shuffle(buffer_size=len(df))\n",
    "    ds = ds.batch(batch_size)\n",
    "    return ds, all_cols"
   ]
  },
  {
   "cell_type": "code",
   "execution_count": 5,
   "id": "0b72c561",
   "metadata": {},
   "outputs": [
    {
     "name": "stderr",
     "output_type": "stream",
     "text": [
      "C:\\Online Course\\Projects\\shipping-listing-price-prediction\\helper.py:82: SettingWithCopyWarning: \n",
      "A value is trying to be set on a copy of a slice from a DataFrame\n",
      "\n",
      "See the caveats in the documentation: https://pandas.pydata.org/pandas-docs/stable/user_guide/indexing.html#returning-a-view-versus-a-copy\n",
      "  df.drop(['word_count'], axis=1, inplace=True)\n",
      "C:\\Online Course\\Projects\\shipping-listing-price-prediction\\helper.py:84: SettingWithCopyWarning: \n",
      "A value is trying to be set on a copy of a slice from a DataFrame.\n",
      "Try using .loc[row_indexer,col_indexer] = value instead\n",
      "\n",
      "See the caveats in the documentation: https://pandas.pydata.org/pandas-docs/stable/user_guide/indexing.html#returning-a-view-versus-a-copy\n",
      "  df['description_language'] = df['description'].apply(lambda x:detect(x))\n",
      "C:\\Online Course\\Projects\\shipping-listing-price-prediction\\helper.py:82: SettingWithCopyWarning: \n",
      "A value is trying to be set on a copy of a slice from a DataFrame\n",
      "\n",
      "See the caveats in the documentation: https://pandas.pydata.org/pandas-docs/stable/user_guide/indexing.html#returning-a-view-versus-a-copy\n",
      "  df.drop(['word_count'], axis=1, inplace=True)\n",
      "C:\\Online Course\\Projects\\shipping-listing-price-prediction\\helper.py:84: SettingWithCopyWarning: \n",
      "A value is trying to be set on a copy of a slice from a DataFrame.\n",
      "Try using .loc[row_indexer,col_indexer] = value instead\n",
      "\n",
      "See the caveats in the documentation: https://pandas.pydata.org/pandas-docs/stable/user_guide/indexing.html#returning-a-view-versus-a-copy\n",
      "  df['description_language'] = df['description'].apply(lambda x:detect(x))\n"
     ]
    }
   ],
   "source": [
    "#convert dataframe to dataset\n",
    "batch_size = 32\n",
    "train_ds, all_cols = df_to_dataset(train)\n",
    "val_ds, _ = df_to_dataset(val, shuffle=False, batch_size=batch_size)"
   ]
  },
  {
   "cell_type": "code",
   "execution_count": 6,
   "id": "30b06dac",
   "metadata": {},
   "outputs": [
    {
     "name": "stdout",
     "output_type": "stream",
     "text": [
      "Every feature: ['year', 'model', 'category', 'length', 'fuel_type', 'hull_material', 'country', 'noun_counts', 'verb_counts', 'adjective_counts', 'bilge_pump', 'deck_finish', 'fuel_tank', 'good_condition', 'level_indicator', 'material_grp', 'sailing_yacht', 'stainless_steel', 'tank_litre', 'teak_cockpit', 'avg_price_by_hull_material', 'avg_price_by_fuel_type', 'avg_price_by_category']\n",
      "A batch of fuel tank: tf.Tensor(\n",
      "[b'diesel' b'diesel' b'diesel' b'diesel' b'diesel' b'diesel' b'electrical'\n",
      " b'petrol' b'diesel' b'diesel' b'diesel' b'diesel' b'diesel' b'diesel'\n",
      " b'diesel' b'petrol' b'diesel' b'diesel' b'diesel' b'diesel' b'diesel'\n",
      " b'diesel' b'petrol' b'diesel' b'electrical' b'diesel' b'diesel' b'diesel'\n",
      " b'diesel' b'diesel' b'petrol' b'diesel'], shape=(32,), dtype=string)\n",
      "A batch of country: tf.Tensor(\n",
      "[b'poland' b'afghanistan' b'italy' b'afghanistan' b'afghanistan'\n",
      " b'afghanistan' b'germany' b'afghanistan' b'afghanistan' b'afghanistan'\n",
      " b'italy' b'germany' b'netherlands' b'germany' b'netherlands'\n",
      " b'afghanistan' b'netherlands' b'france' b'afghanistan' b'spain'\n",
      " b'afghanistan' b'italy' b'germany' b'grenada' b'austria' b'germany'\n",
      " b'italy' b'germany' b'croatia' b'croatia' b'poland' b'germany'], shape=(32,), dtype=string)\n",
      "A batch of model: tf.Tensor(\n",
      "[b'segelyachten' b'klassische_segelboote' b'segelyachten' b'segelyachten'\n",
      " b'daysailers' b'daysailers' b'segelyachten' b'segelyachten'\n",
      " b'sonstige_segelboote' b'daysailers' b'segelyachten' b'daysailers'\n",
      " b'daysailers' b'daysailers' b'slup_boote' b'sonstige_segelboote'\n",
      " b'daysailers' b'segelyachten' b'segelyachten' b'segelyachten'\n",
      " b'segelyachten' b'racer_cruiser_segelboote' b'segelyachten'\n",
      " b'segelyachten' b'segelyachten' b'segelyachten' b'schoner'\n",
      " b'segelboote_mit_kajte' b'segelyachten' b'segelyachten'\n",
      " b'nicht_spezifizierte_segelboote' b'klassische_segelboote'], shape=(32,), dtype=string)\n",
      "A batch of targets: tf.Tensor(\n",
      "[ 44700.  585937.5 585937.5 285000.   88500.   46000.    9500.   28800.\n",
      " 585937.5  59900.   29000.   26900.    9250.   11900.  109500.    5500.\n",
      "  19250.  180000.   44357.  284000.   40945.   78000.   27500.  230075.\n",
      "  50000.   84000.  585937.5  13000.  138000.   42000.    7600.   12500. ], shape=(32,), dtype=float64)\n"
     ]
    }
   ],
   "source": [
    "#sanity checking\n",
    "for feature_batch, label_batch in train_ds.take(1):\n",
    "    print('Every feature:', list(feature_batch.keys()))\n",
    "    print('A batch of fuel tank:', feature_batch['fuel_type'])\n",
    "    print('A batch of country:', feature_batch['country'])\n",
    "    print('A batch of model:', feature_batch['category'])\n",
    "    print('A batch of targets:', label_batch)"
   ]
  },
  {
   "cell_type": "code",
   "execution_count": 7,
   "id": "0dc3ab4d",
   "metadata": {},
   "outputs": [],
   "source": [
    "fileName = parent_dir + '\\\\' + 'model/column_names.pkl'\n",
    "with open(fileName,'wb') as f:\n",
    "    pickle.dump(all_cols,f)"
   ]
  },
  {
   "cell_type": "code",
   "execution_count": 8,
   "id": "4cfaee48",
   "metadata": {},
   "outputs": [],
   "source": [
    "float_normalized_cols = ['length', 'noun_counts', 'verb_counts', 'adjective_counts', 'avg_price_by_hull_material',\n",
    "                        'avg_price_by_fuel_type', 'avg_price_by_category']\n",
    "float_cols = ['bilge_pump', 'deck_finish', 'fuel_tank', 'level_indicator', 'material_grp', 'mehr_anzeigen',\n",
    "             'sailing_yacht', 'stainless_steel', 'tank_litre', 'teak_cockpit']\n",
    "string_categorical_cols = ['model', 'category', 'hull_material', 'country', 'fuel_type']\n",
    "float_discretized_cols = ['year']\n",
    "\n",
    "float_normalized = 'float_normalized'\n",
    "just_float = 'float'\n",
    "string_categorical = 'string_categorical'\n",
    "float_discretized = 'float_discretized'"
   ]
  },
  {
   "cell_type": "code",
   "execution_count": 9,
   "id": "b652f142",
   "metadata": {},
   "outputs": [],
   "source": [
    "all_keys = sorted(float_normalized_cols + float_cols + string_categorical_cols)\n",
    "features_dict = {key: float_normalized if key in float_normalized_cols else (just_float if key in float_cols else string_categorical) for key in all_keys}"
   ]
  },
  {
   "cell_type": "code",
   "execution_count": 10,
   "id": "41ace377",
   "metadata": {},
   "outputs": [],
   "source": [
    "features_dict['year'] = FeatureSpace.float_discretized(num_bins=10)"
   ]
  },
  {
   "cell_type": "code",
   "execution_count": 11,
   "id": "10165a7d",
   "metadata": {},
   "outputs": [
    {
     "data": {
      "text/plain": [
       "{'adjective_counts': 'float_normalized',\n",
       " 'avg_price_by_category': 'float_normalized',\n",
       " 'avg_price_by_fuel_type': 'float_normalized',\n",
       " 'avg_price_by_hull_material': 'float_normalized',\n",
       " 'bilge_pump': 'float',\n",
       " 'category': 'string_categorical',\n",
       " 'country': 'string_categorical',\n",
       " 'deck_finish': 'float',\n",
       " 'fuel_tank': 'float',\n",
       " 'fuel_type': 'string_categorical',\n",
       " 'hull_material': 'string_categorical',\n",
       " 'length': 'float_normalized',\n",
       " 'level_indicator': 'float',\n",
       " 'material_grp': 'float',\n",
       " 'mehr_anzeigen': 'float',\n",
       " 'model': 'string_categorical',\n",
       " 'noun_counts': 'float_normalized',\n",
       " 'sailing_yacht': 'float',\n",
       " 'stainless_steel': 'float',\n",
       " 'tank_litre': 'float',\n",
       " 'teak_cockpit': 'float',\n",
       " 'verb_counts': 'float_normalized',\n",
       " 'year': <keras.src.utils.feature_space.Feature at 0x28dd3245a90>}"
      ]
     },
     "execution_count": 11,
     "metadata": {},
     "output_type": "execute_result"
    }
   ],
   "source": [
    "features_dict"
   ]
  },
  {
   "cell_type": "code",
   "execution_count": 12,
   "id": "e32da840",
   "metadata": {},
   "outputs": [],
   "source": [
    "feature_space = FeatureSpace(\n",
    "    features={\n",
    "    \"adjective_counts\": 'float_normalized',\n",
    "    \"avg_price_by_category\": 'float_normalized',\n",
    "    \"avg_price_by_fuel_type\": 'float_normalized',\n",
    "    \"avg_price_by_hull_material\": 'float_normalized',\n",
    "    \"bilge_pump\": 'float',\n",
    "    \"category\": 'string_categorical',\n",
    "    \"country\": 'string_categorical',\n",
    "    \"deck_finish\": 'float',\n",
    "    \"fuel_tank\": 'float',\n",
    "    \"fuel_type\": 'string_categorical',\n",
    "    \"hull_material\": 'string_categorical',\n",
    "    \"length\": 'float_normalized',\n",
    "    \"level_indicator\": 'float',\n",
    "    \"material_grp\": 'float',\n",
    "    \"good_condition\": 'float',\n",
    "    \"model\": 'string_categorical',\n",
    "    \"noun_counts\": 'float_normalized',\n",
    "    \"sailing_yacht\": 'float',\n",
    "    \"stainless_steel\": 'float',\n",
    "    \"tank_litre\": 'float',\n",
    "    \"teak_cockpit\": 'float',\n",
    "    \"verb_counts\": 'float_normalized',\n",
    "    \"year\": FeatureSpace.float_discretized(num_bins=10)\n",
    "    },\n",
    "    output_mode=\"concat\",\n",
    "    crosses=[\n",
    "        FeatureSpace.cross(feature_names=(\"model\", \"category\"), crossing_dim=64),\n",
    "        FeatureSpace.cross(feature_names=(\"hull_material\", \"category\"), crossing_dim=16),\n",
    "        FeatureSpace.cross(feature_names=(\"fuel_type\", \"category\"), crossing_dim=16),\n",
    "        \n",
    "    ],\n",
    ")\n",
    "\n",
    "#needs to adapt the feature_space. Reminder: feature_space needs to be adapted to a dataset WITHOUT LABEL\n",
    "train_ds_with_no_labels = train_ds.map(lambda x, _: x)\n",
    "feature_space.adapt(train_ds_with_no_labels)"
   ]
  },
  {
   "cell_type": "code",
   "execution_count": 13,
   "id": "3eb0eb65",
   "metadata": {},
   "outputs": [],
   "source": [
    "feature_space.save(parent_dir + '\\\\' + 'model/feature_space.keras')"
   ]
  },
  {
   "cell_type": "code",
   "execution_count": 14,
   "id": "2a7e1f44",
   "metadata": {},
   "outputs": [
    {
     "name": "stdout",
     "output_type": "stream",
     "text": [
      "preprocessed_x.shape: (32, 977)\n",
      "preprocessed_x.dtype: <dtype: 'float32'>\n"
     ]
    }
   ],
   "source": [
    "#checking the dataset shape\n",
    "for x, _ in train_ds.take(1):\n",
    "    preprocessed_x = feature_space(x)\n",
    "    print(\"preprocessed_x.shape:\", preprocessed_x.shape)\n",
    "    print(\"preprocessed_x.dtype:\", preprocessed_x.dtype)"
   ]
  },
  {
   "cell_type": "code",
   "execution_count": 15,
   "id": "5b7ca2d6",
   "metadata": {},
   "outputs": [],
   "source": [
    "def rmse(y_true, y_pred):  # Root mean square error\n",
    "    return tf.sqrt(tf.reduce_mean(tf.square(y_pred - y_true)))"
   ]
  },
  {
   "cell_type": "code",
   "execution_count": 16,
   "id": "a6c0804d",
   "metadata": {},
   "outputs": [],
   "source": [
    "#remapping to label\n",
    "preprocessed_train_ds = train_ds.map(\n",
    "    lambda x, y: (feature_space(x), y), num_parallel_calls=tf.data.AUTOTUNE\n",
    ")\n",
    "preprocessed_train_ds = preprocessed_train_ds.prefetch(tf.data.AUTOTUNE)\n",
    "\n",
    "#To make sure the training data is read infinitely\n",
    "preprocessed_train_ds = preprocessed_train_ds.repeat()\n",
    "\n",
    "preprocessed_val_ds = val_ds.map(\n",
    "    lambda x, y: (feature_space(x), y), num_parallel_calls=tf.data.AUTOTUNE\n",
    ")\n",
    "preprocessed_val_ds = preprocessed_val_ds.prefetch(tf.data.AUTOTUNE)"
   ]
  },
  {
   "cell_type": "code",
   "execution_count": 17,
   "id": "fc40377b",
   "metadata": {},
   "outputs": [],
   "source": [
    "dict_inputs = feature_space.get_inputs()\n",
    "encoded_features = feature_space.get_encoded_features()\n",
    "x = keras.layers.Dense(32, activation=\"relu\")(encoded_features)\n",
    "x = keras.layers.Dropout(0.5)(x) #using dropout layer to avoid overfitting\n",
    "x = keras.layers.Dense(64, activation=\"relu\")(x)\n",
    "x = keras.layers.Dropout(0.5)(x)\n",
    "x = keras.layers.Dense(128, activation=\"relu\")(x)\n",
    "x = keras.layers.Dropout(0.5)(x)\n",
    "x = keras.layers.Dense(256, activation=\"relu\")(x)\n",
    "x = keras.layers.Dropout(0.5)(x)\n",
    "x = keras.layers.Dense(512, activation=\"relu\")(x)\n",
    "x = keras.layers.Dropout(0.5)(x)\n",
    "predictions = keras.layers.Dense(1, activation=\"linear\")(x)\n",
    "\n",
    "#1st model: training_model\n",
    "training_model = keras.Model(inputs=encoded_features, outputs=predictions)\n",
    "training_model.compile(\n",
    "    optimizer=\"adam\", loss=\"mse\", metrics=[rmse, \"mse\"]\n",
    ")\n",
    "\n",
    "#2nd model: inference_model\n",
    "inference_model = keras.Model(inputs=dict_inputs, outputs=predictions)"
   ]
  },
  {
   "cell_type": "code",
   "execution_count": 18,
   "id": "e35885df",
   "metadata": {},
   "outputs": [],
   "source": [
    "TRAIN_BATCH_SIZE = 32 \n",
    "NUM_TRAIN_EXAMPLES = 59621 * 5\n",
    "NUM_EVALS = 500\n",
    "NUM_EVAL_EXAMPLES = 14906\n",
    "\n",
    "steps_per_epoch = NUM_TRAIN_EXAMPLES // (TRAIN_BATCH_SIZE * NUM_EVALS)\n",
    "#early stopping to avoid overfitting\n",
    "early_stopping = tf.keras.callbacks.EarlyStopping(patience=20, restore_best_weights=True)"
   ]
  },
  {
   "cell_type": "code",
   "execution_count": 19,
   "id": "26421907",
   "metadata": {},
   "outputs": [
    {
     "name": "stdout",
     "output_type": "stream",
     "text": [
      "Epoch 1/500\n",
      "18/18 [==============================] - 2s 33ms/step - loss: 59486797824.0000 - rmse: 242018.7812 - mse: 59486797824.0000 - val_loss: 36444467200.0000 - val_rmse: 187765.0469 - val_mse: 36444467200.0000\n",
      "Epoch 2/500\n",
      "18/18 [==============================] - 0s 21ms/step - loss: 60876623872.0000 - rmse: 242594.5312 - mse: 60876623872.0000 - val_loss: 36362235904.0000 - val_rmse: 187549.8906 - val_mse: 36362235904.0000\n",
      "Epoch 3/500\n",
      "18/18 [==============================] - 0s 21ms/step - loss: 63101878272.0000 - rmse: 248253.8594 - mse: 63101878272.0000 - val_loss: 34871877632.0000 - val_rmse: 183617.2969 - val_mse: 34871877632.0000\n",
      "Epoch 4/500\n",
      "18/18 [==============================] - 0s 20ms/step - loss: 61865320448.0000 - rmse: 245054.2188 - mse: 61865320448.0000 - val_loss: 22775672832.0000 - val_rmse: 148117.7031 - val_mse: 22775672832.0000\n",
      "Epoch 5/500\n",
      "18/18 [==============================] - 0s 19ms/step - loss: 29616365568.0000 - rmse: 169813.3750 - mse: 29616365568.0000 - val_loss: 16596995072.0000 - val_rmse: 128090.0938 - val_mse: 16596995072.0000\n",
      "Epoch 6/500\n",
      "18/18 [==============================] - 0s 18ms/step - loss: 26196649984.0000 - rmse: 160223.7188 - mse: 26196649984.0000 - val_loss: 11427176448.0000 - val_rmse: 105837.6016 - val_mse: 11427176448.0000\n",
      "Epoch 7/500\n",
      "18/18 [==============================] - 0s 19ms/step - loss: 21540298752.0000 - rmse: 144869.0781 - mse: 21540298752.0000 - val_loss: 9894043648.0000 - val_rmse: 98399.8359 - val_mse: 9894043648.0000\n",
      "Epoch 8/500\n",
      "18/18 [==============================] - 0s 19ms/step - loss: 20054386688.0000 - rmse: 140327.4531 - mse: 20054386688.0000 - val_loss: 8436478464.0000 - val_rmse: 90797.9453 - val_mse: 8436478464.0000\n",
      "Epoch 9/500\n",
      "18/18 [==============================] - 0s 20ms/step - loss: 16004214784.0000 - rmse: 124374.0703 - mse: 16004214784.0000 - val_loss: 7076362240.0000 - val_rmse: 82931.2500 - val_mse: 7076362240.0000\n",
      "Epoch 10/500\n",
      "18/18 [==============================] - 0s 21ms/step - loss: 14035926016.0000 - rmse: 117292.0859 - mse: 14035926016.0000 - val_loss: 6619523584.0000 - val_rmse: 80181.6172 - val_mse: 6619523584.0000\n",
      "Epoch 11/500\n",
      "18/18 [==============================] - 0s 20ms/step - loss: 11335117824.0000 - rmse: 103687.0312 - mse: 11335117824.0000 - val_loss: 5764687360.0000 - val_rmse: 74636.7266 - val_mse: 5764687360.0000\n",
      "Epoch 12/500\n",
      "18/18 [==============================] - 0s 20ms/step - loss: 11219330048.0000 - rmse: 103293.3125 - mse: 11219330048.0000 - val_loss: 4956759552.0000 - val_rmse: 68911.1172 - val_mse: 4956759552.0000\n",
      "Epoch 13/500\n",
      "18/18 [==============================] - 0s 20ms/step - loss: 9861264384.0000 - rmse: 96787.7344 - mse: 9861264384.0000 - val_loss: 4746755072.0000 - val_rmse: 67583.6094 - val_mse: 4746755072.0000\n",
      "Epoch 14/500\n",
      "18/18 [==============================] - 0s 20ms/step - loss: 10329147392.0000 - rmse: 99856.4766 - mse: 10329147392.0000 - val_loss: 4388403712.0000 - val_rmse: 64962.0703 - val_mse: 4388403712.0000\n",
      "Epoch 15/500\n",
      "18/18 [==============================] - 0s 20ms/step - loss: 8037800960.0000 - rmse: 87231.3125 - mse: 8037800960.0000 - val_loss: 4200066304.0000 - val_rmse: 63590.5625 - val_mse: 4200066304.0000\n",
      "Epoch 16/500\n",
      "18/18 [==============================] - 0s 21ms/step - loss: 9734683648.0000 - rmse: 96607.8281 - mse: 9734683648.0000 - val_loss: 4161453824.0000 - val_rmse: 62873.1406 - val_mse: 4161453824.0000\n",
      "Epoch 17/500\n",
      "18/18 [==============================] - 0s 20ms/step - loss: 8341061632.0000 - rmse: 89740.4219 - mse: 8341061632.0000 - val_loss: 4346841088.0000 - val_rmse: 64908.8750 - val_mse: 4346841088.0000\n",
      "Epoch 18/500\n",
      "18/18 [==============================] - 0s 18ms/step - loss: 8046020608.0000 - rmse: 86621.5547 - mse: 8046020608.0000 - val_loss: 4053161984.0000 - val_rmse: 62278.2266 - val_mse: 4053161984.0000\n",
      "Epoch 19/500\n",
      "18/18 [==============================] - 0s 20ms/step - loss: 6988240896.0000 - rmse: 81509.5469 - mse: 6988240896.0000 - val_loss: 3909275904.0000 - val_rmse: 60875.0703 - val_mse: 3909275904.0000\n",
      "Epoch 20/500\n",
      "18/18 [==============================] - 0s 19ms/step - loss: 8548585984.0000 - rmse: 91002.0000 - mse: 8548585984.0000 - val_loss: 3887262464.0000 - val_rmse: 60589.4531 - val_mse: 3887262464.0000\n",
      "Epoch 21/500\n",
      "18/18 [==============================] - 0s 21ms/step - loss: 10616540160.0000 - rmse: 97836.9375 - mse: 10616540160.0000 - val_loss: 3827447552.0000 - val_rmse: 59792.8789 - val_mse: 3827447552.0000\n",
      "Epoch 22/500\n",
      "18/18 [==============================] - 0s 22ms/step - loss: 7928966656.0000 - rmse: 87934.9688 - mse: 7928966656.0000 - val_loss: 3841261056.0000 - val_rmse: 60088.8242 - val_mse: 3841261056.0000\n",
      "Epoch 23/500\n",
      "18/18 [==============================] - 0s 22ms/step - loss: 7717450752.0000 - rmse: 85404.9844 - mse: 7717450752.0000 - val_loss: 3972410112.0000 - val_rmse: 61241.4180 - val_mse: 3972410112.0000\n",
      "Epoch 24/500\n",
      "18/18 [==============================] - 0s 22ms/step - loss: 6703037440.0000 - rmse: 79623.1562 - mse: 6703037440.0000 - val_loss: 3839235584.0000 - val_rmse: 59539.0234 - val_mse: 3839235584.0000\n",
      "Epoch 25/500\n",
      "18/18 [==============================] - 0s 20ms/step - loss: 8390681600.0000 - rmse: 89495.8047 - mse: 8390681600.0000 - val_loss: 4069443840.0000 - val_rmse: 61851.4688 - val_mse: 4069443840.0000\n",
      "Epoch 26/500\n",
      "18/18 [==============================] - 0s 21ms/step - loss: 8004797952.0000 - rmse: 86996.7969 - mse: 8004797952.0000 - val_loss: 3899185920.0000 - val_rmse: 59758.0898 - val_mse: 3899185920.0000\n",
      "Epoch 27/500\n",
      "18/18 [==============================] - 0s 19ms/step - loss: 6282228736.0000 - rmse: 76423.6484 - mse: 6282228736.0000 - val_loss: 3960840448.0000 - val_rmse: 60277.6289 - val_mse: 3960840448.0000\n",
      "Epoch 28/500\n",
      "18/18 [==============================] - 0s 19ms/step - loss: 7704786432.0000 - rmse: 85776.1484 - mse: 7704786432.0000 - val_loss: 3930338560.0000 - val_rmse: 60486.4414 - val_mse: 3930338560.0000\n",
      "Epoch 29/500\n",
      "18/18 [==============================] - 0s 19ms/step - loss: 6943345152.0000 - rmse: 81645.4844 - mse: 6943345152.0000 - val_loss: 3828591104.0000 - val_rmse: 59667.9648 - val_mse: 3828591104.0000\n",
      "Epoch 30/500\n",
      "18/18 [==============================] - 0s 18ms/step - loss: 5999222784.0000 - rmse: 74391.6250 - mse: 5999222784.0000 - val_loss: 3862421760.0000 - val_rmse: 59876.7734 - val_mse: 3862421760.0000\n",
      "Epoch 31/500\n",
      "18/18 [==============================] - 0s 18ms/step - loss: 6895225856.0000 - rmse: 80996.6094 - mse: 6895225856.0000 - val_loss: 3916914432.0000 - val_rmse: 60478.7070 - val_mse: 3916914432.0000\n",
      "Epoch 32/500\n",
      "18/18 [==============================] - 0s 19ms/step - loss: 6315354112.0000 - rmse: 76592.5000 - mse: 6315354112.0000 - val_loss: 3914869504.0000 - val_rmse: 60243.5469 - val_mse: 3914869504.0000\n",
      "Epoch 33/500\n",
      "18/18 [==============================] - 0s 20ms/step - loss: 5864026112.0000 - rmse: 73642.0078 - mse: 5864026112.0000 - val_loss: 4024276736.0000 - val_rmse: 61490.3164 - val_mse: 4024276736.0000\n",
      "Epoch 34/500\n",
      "18/18 [==============================] - 0s 21ms/step - loss: 6143415808.0000 - rmse: 73944.4219 - mse: 6143415808.0000 - val_loss: 4085292544.0000 - val_rmse: 62037.5898 - val_mse: 4085292544.0000\n",
      "Epoch 35/500\n",
      "18/18 [==============================] - 0s 20ms/step - loss: 6485480960.0000 - rmse: 78143.2344 - mse: 6485480960.0000 - val_loss: 4027198208.0000 - val_rmse: 60689.0547 - val_mse: 4027198208.0000\n",
      "Epoch 36/500\n",
      "18/18 [==============================] - 0s 19ms/step - loss: 6504439808.0000 - rmse: 77005.6406 - mse: 6504439808.0000 - val_loss: 4175926016.0000 - val_rmse: 61969.5898 - val_mse: 4175926016.0000\n",
      "Epoch 37/500\n",
      "18/18 [==============================] - 0s 20ms/step - loss: 5530136064.0000 - rmse: 71027.0312 - mse: 5530136064.0000 - val_loss: 4045008128.0000 - val_rmse: 60472.2383 - val_mse: 4045008128.0000\n",
      "Epoch 38/500\n",
      "18/18 [==============================] - 0s 19ms/step - loss: 5947174400.0000 - rmse: 74930.6250 - mse: 5947174400.0000 - val_loss: 4158755328.0000 - val_rmse: 62016.0703 - val_mse: 4158755328.0000\n",
      "Epoch 39/500\n"
     ]
    },
    {
     "name": "stdout",
     "output_type": "stream",
     "text": [
      "18/18 [==============================] - 0s 19ms/step - loss: 5413873664.0000 - rmse: 71944.7891 - mse: 5413873664.0000 - val_loss: 4482043392.0000 - val_rmse: 64548.0820 - val_mse: 4482043392.0000\n",
      "Epoch 40/500\n",
      "18/18 [==============================] - 0s 22ms/step - loss: 5136890880.0000 - rmse: 69349.8672 - mse: 5136890880.0000 - val_loss: 4286487040.0000 - val_rmse: 62590.5938 - val_mse: 4286487040.0000\n",
      "Epoch 41/500\n",
      "18/18 [==============================] - 0s 20ms/step - loss: 6492551680.0000 - rmse: 77329.7891 - mse: 6492551680.0000 - val_loss: 4335639552.0000 - val_rmse: 63093.0703 - val_mse: 4335639552.0000\n"
     ]
    }
   ],
   "source": [
    "#training the model\n",
    "history = training_model.fit(preprocessed_train_ds,\n",
    "                    validation_data=preprocessed_val_ds,\n",
    "                    epochs=NUM_EVALS,\n",
    "                    steps_per_epoch=steps_per_epoch,\n",
    "                    callbacks=[early_stopping]\n",
    "                    )"
   ]
  },
  {
   "cell_type": "code",
   "execution_count": 20,
   "id": "277a1ab9",
   "metadata": {},
   "outputs": [],
   "source": [
    "def plot_curves(history, metrics):\n",
    "    nrows = 1\n",
    "    ncols = 2\n",
    "    fig = plt.figure(figsize=(10, 5))\n",
    "\n",
    "    for idx, key in enumerate(metrics):  \n",
    "        ax = fig.add_subplot(nrows, ncols, idx+1)\n",
    "        plt.plot(history.history[key])\n",
    "        plt.plot(history.history['val_{}'.format(key)])\n",
    "        plt.title('model {}'.format(key))\n",
    "        plt.ylabel(key)\n",
    "        plt.xlabel('epoch')\n",
    "        plt.legend(['train', 'validation'], loc='upper right');    "
   ]
  },
  {
   "cell_type": "code",
   "execution_count": 21,
   "id": "0ff47d31",
   "metadata": {},
   "outputs": [
    {
     "data": {
      "image/png": "[encoded data removed]",
      "text/plain": [
       "<Figure size 1000x500 with 2 Axes>"
      ]
     },
     "metadata": {},
     "output_type": "display_data"
    }
   ],
   "source": [
    "plot_curves(history, ['loss', 'mse'])"
   ]
  },
  {
   "cell_type": "code",
   "execution_count": 22,
   "id": "2baa6af9",
   "metadata": {},
   "outputs": [],
   "source": [
    "#creating a sample data\n",
    "sample = {\n",
    "    \"year\":tf.convert_to_tensor([2010.]),\n",
    "    \"model\":tf.convert_to_tensor(['gulet']),\n",
    "    \"category\":tf.convert_to_tensor(['schoner']),\n",
    "    \"length\":tf.convert_to_tensor([83.]),\n",
    "    \"fuel_type\":tf.convert_to_tensor(['diesel']),\n",
    "    \"hull_material\":tf.convert_to_tensor(['steel']),\n",
    "    \"country\":tf.convert_to_tensor(['turkey']),\n",
    "    \"noun_counts\":tf.convert_to_tensor([20.]),\n",
    "    \"verb_counts\":tf.convert_to_tensor([20.]),\n",
    "    \"adjective_counts\":tf.convert_to_tensor([20.]),\n",
    "    \"bilge_pump\":tf.convert_to_tensor([1.]),\n",
    "    \"deck_finish\":tf.convert_to_tensor([0.]),\n",
    "    \"fuel_tank\":tf.convert_to_tensor([1.]),\n",
    "    \"level_indicator\":tf.convert_to_tensor([1.]),\n",
    "    \"material_grp\":tf.convert_to_tensor([0.]),\n",
    "    \"good_condition\":tf.convert_to_tensor([0.]),\n",
    "    \"sailing_yacht\":tf.convert_to_tensor([1.]),\n",
    "    \"stainless_steel\":tf.convert_to_tensor([0.]),\n",
    "    \"tank_litre\":tf.convert_to_tensor([1.]),\n",
    "    \"teak_cockpit\":tf.convert_to_tensor([1.]),\n",
    "    \"avg_price_by_hull_material\":tf.convert_to_tensor([173764.8396226415]),\n",
    "    \"avg_price_by_fuel_type\":tf.convert_to_tensor([172121.64462209304]),\n",
    "    \"avg_price_by_category\":tf.convert_to_tensor([476125.0]),\n",
    "    \n",
    "}"
   ]
  },
  {
   "cell_type": "code",
   "execution_count": 23,
   "id": "760be385",
   "metadata": {},
   "outputs": [],
   "source": [
    "from tensorflow.keras.models import save_model, load_model"
   ]
  },
  {
   "cell_type": "code",
   "execution_count": 24,
   "id": "6063a6d9",
   "metadata": {},
   "outputs": [
    {
     "name": "stdout",
     "output_type": "stream",
     "text": [
      "1/1 [==============================] - 0s 481ms/step\n"
     ]
    },
    {
     "data": {
      "text/plain": [
       "array([[2539680.2]], dtype=float32)"
      ]
     },
     "execution_count": 24,
     "metadata": {},
     "output_type": "execute_result"
    }
   ],
   "source": [
    "inference_model.save(parent_dir + '\\\\' + \"model/inference_model.keras\")\n",
    "reconstructed_model = load_model(parent_dir + '\\\\' + \"model/inference_model.keras\")\n",
    "reconstructed_model.predict(sample)"
   ]
  },
  {
   "cell_type": "code",
   "execution_count": 25,
   "id": "79e5875f",
   "metadata": {},
   "outputs": [
    {
     "name": "stderr",
     "output_type": "stream",
     "text": [
      "C:\\Online Course\\Projects\\shipping-listing-price-prediction\\helper.py:82: SettingWithCopyWarning: \n",
      "A value is trying to be set on a copy of a slice from a DataFrame\n",
      "\n",
      "See the caveats in the documentation: https://pandas.pydata.org/pandas-docs/stable/user_guide/indexing.html#returning-a-view-versus-a-copy\n",
      "  df.drop(['word_count'], axis=1, inplace=True)\n",
      "C:\\Online Course\\Projects\\shipping-listing-price-prediction\\helper.py:84: SettingWithCopyWarning: \n",
      "A value is trying to be set on a copy of a slice from a DataFrame.\n",
      "Try using .loc[row_indexer,col_indexer] = value instead\n",
      "\n",
      "See the caveats in the documentation: https://pandas.pydata.org/pandas-docs/stable/user_guide/indexing.html#returning-a-view-versus-a-copy\n",
      "  df['description_language'] = df['description'].apply(lambda x:detect(x))\n"
     ]
    }
   ],
   "source": [
    "test_temp = helper.preprocess_df(test)\n",
    "df_test,_ = helper.create_features(test_temp)"
   ]
  },
  {
   "cell_type": "code",
   "execution_count": 26,
   "id": "22a587c8",
   "metadata": {},
   "outputs": [],
   "source": [
    "test_price = df_test.price.tolist()\n",
    "df_test.drop('price', axis=1,inplace=True)"
   ]
  },
  {
   "cell_type": "code",
   "execution_count": 27,
   "id": "3b414a43",
   "metadata": {},
   "outputs": [],
   "source": [
    "list_of_dicts = [row.to_dict() for _, row in df_test.iterrows()]"
   ]
  },
  {
   "cell_type": "code",
   "execution_count": 28,
   "id": "50cf9080",
   "metadata": {},
   "outputs": [
    {
     "name": "stdout",
     "output_type": "stream",
     "text": [
      "1/1 [==============================] - 0s 447ms/step\n",
      "1/1 [==============================] - 0s 37ms/step\n",
      "1/1 [==============================] - 0s 36ms/step\n",
      "1/1 [==============================] - 0s 44ms/step\n",
      "1/1 [==============================] - 0s 45ms/step\n",
      "1/1 [==============================] - 0s 38ms/step\n",
      "1/1 [==============================] - 0s 43ms/step\n",
      "1/1 [==============================] - 0s 35ms/step\n",
      "1/1 [==============================] - 0s 36ms/step\n",
      "1/1 [==============================] - 0s 39ms/step\n",
      "1/1 [==============================] - 0s 45ms/step\n",
      "1/1 [==============================] - 0s 40ms/step\n",
      "1/1 [==============================] - 0s 45ms/step\n",
      "1/1 [==============================] - 0s 35ms/step\n",
      "1/1 [==============================] - 0s 40ms/step\n",
      "1/1 [==============================] - 0s 36ms/step\n",
      "1/1 [==============================] - 0s 38ms/step\n",
      "1/1 [==============================] - 0s 44ms/step\n",
      "1/1 [==============================] - 0s 37ms/step\n",
      "1/1 [==============================] - 0s 38ms/step\n",
      "1/1 [==============================] - 0s 36ms/step\n",
      "1/1 [==============================] - 0s 38ms/step\n",
      "1/1 [==============================] - 0s 36ms/step\n",
      "1/1 [==============================] - 0s 35ms/step\n",
      "1/1 [==============================] - 0s 44ms/step\n",
      "1/1 [==============================] - 0s 45ms/step\n",
      "1/1 [==============================] - 0s 35ms/step\n",
      "1/1 [==============================] - 0s 36ms/step\n",
      "1/1 [==============================] - 0s 36ms/step\n",
      "1/1 [==============================] - 0s 37ms/step\n",
      "1/1 [==============================] - 0s 38ms/step\n",
      "1/1 [==============================] - 0s 42ms/step\n",
      "1/1 [==============================] - 0s 42ms/step\n",
      "1/1 [==============================] - 0s 46ms/step\n",
      "1/1 [==============================] - 0s 41ms/step\n",
      "1/1 [==============================] - 0s 36ms/step\n",
      "1/1 [==============================] - 0s 38ms/step\n",
      "1/1 [==============================] - 0s 41ms/step\n",
      "1/1 [==============================] - 0s 45ms/step\n",
      "1/1 [==============================] - 0s 37ms/step\n",
      "1/1 [==============================] - 0s 43ms/step\n",
      "1/1 [==============================] - 0s 38ms/step\n",
      "1/1 [==============================] - 0s 45ms/step\n",
      "1/1 [==============================] - 0s 38ms/step\n",
      "1/1 [==============================] - 0s 38ms/step\n",
      "1/1 [==============================] - 0s 37ms/step\n",
      "1/1 [==============================] - 0s 32ms/step\n",
      "1/1 [==============================] - 0s 37ms/step\n",
      "1/1 [==============================] - 0s 37ms/step\n",
      "1/1 [==============================] - 0s 45ms/step\n",
      "1/1 [==============================] - 0s 43ms/step\n",
      "1/1 [==============================] - 0s 37ms/step\n",
      "1/1 [==============================] - 0s 38ms/step\n",
      "1/1 [==============================] - 0s 45ms/step\n",
      "1/1 [==============================] - 0s 40ms/step\n",
      "1/1 [==============================] - 0s 38ms/step\n",
      "1/1 [==============================] - 0s 36ms/step\n",
      "1/1 [==============================] - 0s 36ms/step\n",
      "1/1 [==============================] - 0s 35ms/step\n",
      "1/1 [==============================] - 0s 44ms/step\n",
      "1/1 [==============================] - 0s 45ms/step\n",
      "1/1 [==============================] - 0s 43ms/step\n",
      "1/1 [==============================] - 0s 35ms/step\n",
      "1/1 [==============================] - 0s 37ms/step\n",
      "1/1 [==============================] - 0s 39ms/step\n",
      "1/1 [==============================] - 0s 45ms/step\n",
      "1/1 [==============================] - 0s 40ms/step\n",
      "1/1 [==============================] - 0s 36ms/step\n",
      "1/1 [==============================] - 0s 40ms/step\n",
      "1/1 [==============================] - 0s 36ms/step\n",
      "1/1 [==============================] - 0s 36ms/step\n",
      "1/1 [==============================] - 0s 45ms/step\n",
      "1/1 [==============================] - 0s 37ms/step\n",
      "1/1 [==============================] - 0s 36ms/step\n",
      "1/1 [==============================] - 0s 38ms/step\n",
      "1/1 [==============================] - 0s 45ms/step\n",
      "1/1 [==============================] - 0s 42ms/step\n",
      "1/1 [==============================] - 0s 39ms/step\n",
      "1/1 [==============================] - 0s 44ms/step\n",
      "1/1 [==============================] - 0s 44ms/step\n",
      "1/1 [==============================] - 0s 39ms/step\n",
      "1/1 [==============================] - 0s 40ms/step\n",
      "1/1 [==============================] - 0s 36ms/step\n",
      "1/1 [==============================] - 0s 45ms/step\n",
      "1/1 [==============================] - 0s 35ms/step\n",
      "1/1 [==============================] - 0s 38ms/step\n",
      "1/1 [==============================] - 0s 36ms/step\n",
      "1/1 [==============================] - 0s 39ms/step\n",
      "1/1 [==============================] - 0s 37ms/step\n",
      "1/1 [==============================] - 0s 40ms/step\n",
      "1/1 [==============================] - 0s 44ms/step\n",
      "1/1 [==============================] - 0s 40ms/step\n",
      "1/1 [==============================] - 0s 44ms/step\n",
      "1/1 [==============================] - 0s 39ms/step\n",
      "1/1 [==============================] - 0s 40ms/step\n",
      "1/1 [==============================] - 0s 38ms/step\n",
      "1/1 [==============================] - 0s 38ms/step\n",
      "1/1 [==============================] - 0s 45ms/step\n",
      "1/1 [==============================] - 0s 32ms/step\n",
      "1/1 [==============================] - 0s 39ms/step\n",
      "1/1 [==============================] - 0s 40ms/step\n",
      "1/1 [==============================] - 0s 38ms/step\n",
      "1/1 [==============================] - 0s 39ms/step\n",
      "1/1 [==============================] - 0s 44ms/step\n",
      "1/1 [==============================] - 0s 51ms/step\n",
      "1/1 [==============================] - 0s 44ms/step\n",
      "1/1 [==============================] - 0s 37ms/step\n",
      "1/1 [==============================] - 0s 38ms/step\n",
      "1/1 [==============================] - 0s 38ms/step\n",
      "1/1 [==============================] - 0s 36ms/step\n",
      "1/1 [==============================] - 0s 37ms/step\n",
      "1/1 [==============================] - 0s 36ms/step\n",
      "1/1 [==============================] - 0s 43ms/step\n",
      "1/1 [==============================] - 0s 44ms/step\n",
      "1/1 [==============================] - 0s 39ms/step\n",
      "1/1 [==============================] - 0s 36ms/step\n",
      "1/1 [==============================] - 0s 41ms/step\n",
      "1/1 [==============================] - 0s 42ms/step\n",
      "1/1 [==============================] - 0s 40ms/step\n",
      "1/1 [==============================] - 0s 44ms/step\n",
      "1/1 [==============================] - 0s 46ms/step\n",
      "1/1 [==============================] - 0s 46ms/step\n",
      "1/1 [==============================] - 0s 50ms/step\n",
      "1/1 [==============================] - 0s 46ms/step\n",
      "1/1 [==============================] - 0s 38ms/step\n",
      "1/1 [==============================] - 0s 38ms/step\n",
      "1/1 [==============================] - 0s 37ms/step\n",
      "1/1 [==============================] - 0s 43ms/step\n",
      "1/1 [==============================] - 0s 39ms/step\n",
      "1/1 [==============================] - 0s 36ms/step\n",
      "1/1 [==============================] - 0s 40ms/step\n",
      "1/1 [==============================] - 0s 41ms/step\n",
      "1/1 [==============================] - 0s 38ms/step\n",
      "1/1 [==============================] - 0s 46ms/step\n",
      "1/1 [==============================] - 0s 38ms/step\n",
      "1/1 [==============================] - 0s 46ms/step\n",
      "1/1 [==============================] - 0s 37ms/step\n",
      "1/1 [==============================] - 0s 43ms/step\n",
      "1/1 [==============================] - 0s 45ms/step\n",
      "1/1 [==============================] - 0s 41ms/step\n",
      "1/1 [==============================] - 0s 46ms/step\n",
      "1/1 [==============================] - 0s 37ms/step\n",
      "1/1 [==============================] - 0s 37ms/step\n",
      "1/1 [==============================] - 0s 36ms/step\n",
      "1/1 [==============================] - 0s 45ms/step\n",
      "1/1 [==============================] - 0s 36ms/step\n",
      "1/1 [==============================] - 0s 38ms/step\n",
      "1/1 [==============================] - 0s 43ms/step\n",
      "1/1 [==============================] - 0s 37ms/step\n",
      "1/1 [==============================] - 0s 39ms/step\n",
      "1/1 [==============================] - 0s 39ms/step\n",
      "1/1 [==============================] - 0s 44ms/step\n",
      "1/1 [==============================] - 0s 41ms/step\n",
      "1/1 [==============================] - 0s 41ms/step\n",
      "1/1 [==============================] - 0s 37ms/step\n",
      "1/1 [==============================] - 0s 38ms/step\n",
      "1/1 [==============================] - 0s 37ms/step\n"
     ]
    },
    {
     "name": "stdout",
     "output_type": "stream",
     "text": [
      "1/1 [==============================] - 0s 45ms/step\n",
      "1/1 [==============================] - 0s 39ms/step\n",
      "1/1 [==============================] - 0s 43ms/step\n",
      "1/1 [==============================] - 0s 45ms/step\n",
      "1/1 [==============================] - 0s 41ms/step\n",
      "1/1 [==============================] - 0s 43ms/step\n",
      "1/1 [==============================] - 0s 47ms/step\n",
      "1/1 [==============================] - 0s 37ms/step\n",
      "1/1 [==============================] - 0s 46ms/step\n",
      "1/1 [==============================] - 0s 39ms/step\n",
      "1/1 [==============================] - 0s 44ms/step\n",
      "1/1 [==============================] - 0s 45ms/step\n",
      "1/1 [==============================] - 0s 37ms/step\n",
      "1/1 [==============================] - 0s 38ms/step\n",
      "1/1 [==============================] - 0s 45ms/step\n",
      "1/1 [==============================] - 0s 37ms/step\n",
      "1/1 [==============================] - 0s 36ms/step\n",
      "1/1 [==============================] - 0s 37ms/step\n",
      "1/1 [==============================] - 0s 42ms/step\n",
      "1/1 [==============================] - 0s 45ms/step\n",
      "1/1 [==============================] - 0s 37ms/step\n",
      "1/1 [==============================] - 0s 38ms/step\n",
      "1/1 [==============================] - 0s 30ms/step\n",
      "1/1 [==============================] - 0s 41ms/step\n",
      "1/1 [==============================] - 0s 37ms/step\n",
      "1/1 [==============================] - 0s 43ms/step\n",
      "1/1 [==============================] - 0s 39ms/step\n",
      "1/1 [==============================] - 0s 38ms/step\n",
      "1/1 [==============================] - 0s 37ms/step\n",
      "1/1 [==============================] - 0s 37ms/step\n",
      "1/1 [==============================] - 0s 46ms/step\n",
      "1/1 [==============================] - 0s 45ms/step\n",
      "1/1 [==============================] - 0s 41ms/step\n",
      "1/1 [==============================] - 0s 37ms/step\n",
      "1/1 [==============================] - 0s 41ms/step\n",
      "1/1 [==============================] - 0s 36ms/step\n",
      "1/1 [==============================] - 0s 35ms/step\n",
      "1/1 [==============================] - 0s 45ms/step\n",
      "1/1 [==============================] - 0s 36ms/step\n",
      "1/1 [==============================] - 0s 42ms/step\n",
      "1/1 [==============================] - 0s 37ms/step\n",
      "1/1 [==============================] - 0s 36ms/step\n",
      "1/1 [==============================] - 0s 44ms/step\n",
      "1/1 [==============================] - 0s 37ms/step\n",
      "1/1 [==============================] - 0s 43ms/step\n",
      "1/1 [==============================] - 0s 37ms/step\n",
      "1/1 [==============================] - 0s 37ms/step\n",
      "1/1 [==============================] - 0s 35ms/step\n",
      "1/1 [==============================] - 0s 37ms/step\n",
      "1/1 [==============================] - 0s 38ms/step\n",
      "1/1 [==============================] - 0s 36ms/step\n",
      "1/1 [==============================] - 0s 45ms/step\n",
      "1/1 [==============================] - 0s 36ms/step\n",
      "1/1 [==============================] - 0s 42ms/step\n",
      "1/1 [==============================] - 0s 38ms/step\n",
      "1/1 [==============================] - 0s 37ms/step\n",
      "1/1 [==============================] - 0s 37ms/step\n",
      "1/1 [==============================] - 0s 40ms/step\n",
      "1/1 [==============================] - 0s 42ms/step\n",
      "1/1 [==============================] - 0s 38ms/step\n",
      "1/1 [==============================] - 0s 37ms/step\n",
      "1/1 [==============================] - 0s 37ms/step\n",
      "1/1 [==============================] - 0s 36ms/step\n",
      "1/1 [==============================] - 0s 39ms/step\n",
      "1/1 [==============================] - 0s 42ms/step\n",
      "1/1 [==============================] - 0s 37ms/step\n",
      "1/1 [==============================] - 0s 44ms/step\n",
      "1/1 [==============================] - 0s 34ms/step\n",
      "1/1 [==============================] - 0s 38ms/step\n",
      "1/1 [==============================] - 0s 38ms/step\n",
      "1/1 [==============================] - 0s 44ms/step\n",
      "1/1 [==============================] - 0s 38ms/step\n",
      "1/1 [==============================] - 0s 40ms/step\n",
      "1/1 [==============================] - 0s 37ms/step\n",
      "1/1 [==============================] - 0s 36ms/step\n",
      "1/1 [==============================] - 0s 37ms/step\n",
      "1/1 [==============================] - 0s 43ms/step\n",
      "1/1 [==============================] - 0s 38ms/step\n",
      "1/1 [==============================] - 0s 45ms/step\n",
      "1/1 [==============================] - 0s 37ms/step\n",
      "1/1 [==============================] - 0s 36ms/step\n",
      "1/1 [==============================] - 0s 36ms/step\n",
      "1/1 [==============================] - 0s 37ms/step\n",
      "1/1 [==============================] - 0s 36ms/step\n",
      "1/1 [==============================] - 0s 37ms/step\n",
      "1/1 [==============================] - 0s 37ms/step\n",
      "1/1 [==============================] - 0s 36ms/step\n",
      "1/1 [==============================] - 0s 38ms/step\n",
      "1/1 [==============================] - 0s 43ms/step\n",
      "1/1 [==============================] - 0s 37ms/step\n",
      "1/1 [==============================] - 0s 45ms/step\n",
      "1/1 [==============================] - 0s 38ms/step\n",
      "1/1 [==============================] - 0s 43ms/step\n",
      "1/1 [==============================] - 0s 42ms/step\n",
      "1/1 [==============================] - 0s 37ms/step\n",
      "1/1 [==============================] - 0s 35ms/step\n",
      "1/1 [==============================] - 0s 44ms/step\n",
      "1/1 [==============================] - 0s 43ms/step\n",
      "1/1 [==============================] - 0s 39ms/step\n",
      "1/1 [==============================] - 0s 43ms/step\n",
      "1/1 [==============================] - 0s 45ms/step\n",
      "1/1 [==============================] - 0s 38ms/step\n",
      "1/1 [==============================] - 0s 42ms/step\n",
      "1/1 [==============================] - 0s 36ms/step\n",
      "1/1 [==============================] - 0s 36ms/step\n",
      "1/1 [==============================] - 0s 36ms/step\n",
      "1/1 [==============================] - 0s 37ms/step\n",
      "1/1 [==============================] - 0s 45ms/step\n",
      "1/1 [==============================] - 0s 36ms/step\n",
      "1/1 [==============================] - 0s 45ms/step\n",
      "1/1 [==============================] - 0s 39ms/step\n",
      "1/1 [==============================] - 0s 39ms/step\n",
      "1/1 [==============================] - 0s 37ms/step\n",
      "1/1 [==============================] - 0s 36ms/step\n",
      "1/1 [==============================] - 0s 36ms/step\n",
      "1/1 [==============================] - 0s 36ms/step\n",
      "1/1 [==============================] - 0s 39ms/step\n",
      "1/1 [==============================] - 0s 37ms/step\n",
      "1/1 [==============================] - 0s 38ms/step\n",
      "1/1 [==============================] - 0s 45ms/step\n",
      "1/1 [==============================] - 0s 37ms/step\n",
      "1/1 [==============================] - 0s 38ms/step\n",
      "1/1 [==============================] - 0s 45ms/step\n",
      "1/1 [==============================] - 0s 43ms/step\n",
      "1/1 [==============================] - 0s 41ms/step\n",
      "1/1 [==============================] - 0s 40ms/step\n",
      "1/1 [==============================] - 0s 37ms/step\n",
      "1/1 [==============================] - 0s 42ms/step\n",
      "1/1 [==============================] - 0s 38ms/step\n",
      "1/1 [==============================] - 0s 42ms/step\n",
      "1/1 [==============================] - 0s 38ms/step\n",
      "1/1 [==============================] - 0s 37ms/step\n",
      "1/1 [==============================] - 0s 44ms/step\n",
      "1/1 [==============================] - 0s 43ms/step\n",
      "1/1 [==============================] - 0s 36ms/step\n",
      "1/1 [==============================] - 0s 42ms/step\n",
      "1/1 [==============================] - 0s 39ms/step\n",
      "1/1 [==============================] - 0s 41ms/step\n",
      "1/1 [==============================] - 0s 36ms/step\n",
      "1/1 [==============================] - 0s 35ms/step\n",
      "1/1 [==============================] - 0s 46ms/step\n",
      "1/1 [==============================] - 0s 36ms/step\n",
      "1/1 [==============================] - 0s 45ms/step\n",
      "1/1 [==============================] - 0s 44ms/step\n",
      "1/1 [==============================] - 0s 37ms/step\n",
      "1/1 [==============================] - 0s 42ms/step\n",
      "1/1 [==============================] - 0s 45ms/step\n",
      "1/1 [==============================] - 0s 36ms/step\n"
     ]
    }
   ],
   "source": [
    "predicted_price = []\n",
    "for i in list_of_dicts:\n",
    "    #convert the value of the dictionary to tensor\n",
    "    input_dict = {name: tf.convert_to_tensor([value]) for name, value in i.items()}\n",
    "    predictions = inference_model.predict(input_dict)\n",
    "    predicted_price.append(predictions[0][0])"
   ]
  },
  {
   "cell_type": "code",
   "execution_count": 29,
   "id": "b2c44988",
   "metadata": {},
   "outputs": [
    {
     "name": "stdout",
     "output_type": "stream",
     "text": [
      "The resulting RMSE for the test dataset is:  85713.7221992151\n"
     ]
    }
   ],
   "source": [
    "from sklearn.metrics import mean_squared_error\n",
    "\n",
    "#appending the quantity and predicted quantity to the dataframe\n",
    "df_test['price'] = test_price\n",
    "df_test['predicted_price'] = predicted_price\n",
    "rmse = np.sqrt(mean_squared_error(df_test['price'], df_test['predicted_price']))\n",
    "\n",
    "print('The resulting RMSE for the test dataset is: ', rmse)"
   ]
  },
  {
   "cell_type": "code",
   "execution_count": 30,
   "id": "4984f850",
   "metadata": {},
   "outputs": [
    {
     "name": "stdout",
     "output_type": "stream",
     "text": [
      "1/1 [==============================] - 0s 457ms/step\n"
     ]
    },
    {
     "data": {
      "text/plain": [
       "array([[2539680.2]], dtype=float32)"
      ]
     },
     "execution_count": 30,
     "metadata": {},
     "output_type": "execute_result"
    }
   ],
   "source": [
    "reconstructed_model = load_model(parent_dir + '\\\\' + \"model/inference_model.keras\")\n",
    "reconstructed_model.predict(sample)"
   ]
  },
  {
   "cell_type": "code",
   "execution_count": 31,
   "id": "ae37eb85",
   "metadata": {},
   "outputs": [],
   "source": [
    "reconstructed_model.compile(\n",
    "    optimizer=\"adam\", loss=\"mse\", metrics=[rmse, \"mse\"]\n",
    ")"
   ]
  },
  {
   "cell_type": "code",
   "execution_count": 32,
   "id": "22220392",
   "metadata": {},
   "outputs": [
    {
     "name": "stdout",
     "output_type": "stream",
     "text": [
      "WARNING:tensorflow:Compiled the loaded model, but the compiled metrics have yet to be built. `model.compile_metrics` will be empty until you train or evaluate the model.\n",
      "INFO:tensorflow:Assets written to: C:\\Online Course\\Projects\\shipping-listing-price-prediction\\model/tf_inference_model\\assets\n"
     ]
    },
    {
     "name": "stderr",
     "output_type": "stream",
     "text": [
      "INFO:tensorflow:Assets written to: C:\\Online Course\\Projects\\shipping-listing-price-prediction\\model/tf_inference_model\\assets\n"
     ]
    }
   ],
   "source": [
    "reconstructed_model.save(parent_dir + '\\\\' + 'model/tf_inference_model', save_format='tf')"
   ]
  },
  {
   "cell_type": "code",
   "execution_count": 33,
   "id": "1dc00bf7",
   "metadata": {},
   "outputs": [
    {
     "name": "stdout",
     "output_type": "stream",
     "text": [
      "1/1 [==============================] - 0s 455ms/step\n"
     ]
    },
    {
     "data": {
      "text/plain": [
       "array([[2539680.2]], dtype=float32)"
      ]
     },
     "execution_count": 33,
     "metadata": {},
     "output_type": "execute_result"
    }
   ],
   "source": [
    "reconstructed_model.predict(sample)"
   ]
  },
  {
   "cell_type": "code",
   "execution_count": 34,
   "id": "bd26c170",
   "metadata": {},
   "outputs": [
    {
     "data": {
      "text/plain": [
       "<keras.src.utils.feature_space.FeatureSpace at 0x28dd330b590>"
      ]
     },
     "execution_count": 34,
     "metadata": {},
     "output_type": "execute_result"
    }
   ],
   "source": [
    "feature_space"
   ]
  }
 ],
 "metadata": {
  "kernelspec": {
   "display_name": "ML Projects Env",
   "language": "python",
   "name": "mlprojects_env"
  },
  "language_info": {
   "codemirror_mode": {
    "name": "ipython",
    "version": 3
   },
   "file_extension": ".py",
   "mimetype": "text/x-python",
   "name": "python",
   "nbconvert_exporter": "python",
   "pygments_lexer": "ipython3",
   "version": "3.11.4"
  }
 },
 "nbformat": 4,
 "nbformat_minor": 5
}
