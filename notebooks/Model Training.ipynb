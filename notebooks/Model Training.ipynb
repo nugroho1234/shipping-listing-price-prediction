{
 "cells": [
  {
   "cell_type": "code",
   "execution_count": 1,
   "id": "00e417cf",
   "metadata": {},
   "outputs": [],
   "source": [
    "#standard libraries\n",
    "import pandas as pd\n",
    "import numpy as np\n",
    "import re\n",
    "import pickle\n",
    "from unidecode import unidecode\n",
    "import matplotlib.pyplot as plt\n",
    "\n",
    "#sklearn\n",
    "from sklearn.feature_extraction.text import TfidfVectorizer\n",
    "from sklearn.neighbors import NearestNeighbors\n",
    "\n",
    "#nltk\n",
    "import nltk\n",
    "from nltk.corpus import stopwords\n",
    "from collections import Counter\n",
    "from langdetect import detect\n",
    "\n",
    "#preprocessing and feature extraction\n",
    "import helper\n",
    "\n",
    "#tensorflow\n",
    "import tensorflow as tf\n",
    "import tensorflow.keras as keras\n",
    "\n",
    "from tensorflow.keras.utils import FeatureSpace\n",
    "\n",
    "from tensorflow import feature_column as fc\n",
    "from tensorflow.keras import layers\n",
    "from sklearn.model_selection import train_test_split\n",
    "\n",
    "import random\n",
    "random.seed(42)"
   ]
  },
  {
   "cell_type": "code",
   "execution_count": 2,
   "id": "ae46955a",
   "metadata": {},
   "outputs": [],
   "source": [
    "df = pd.read_csv('data/online_ship_listing_data.csv')"
   ]
  },
  {
   "cell_type": "code",
   "execution_count": 3,
   "id": "ca450e58",
   "metadata": {},
   "outputs": [
    {
     "name": "stdout",
     "output_type": "stream",
     "text": [
      "1184 train examples\n",
      "296 validation examples\n",
      "370 test examples\n"
     ]
    }
   ],
   "source": [
    "#splitting the dataframe\n",
    "train, test = train_test_split(df, test_size=0.2)\n",
    "train, val = train_test_split(train, test_size=0.2)\n",
    "\n",
    "print(len(train), 'train examples')\n",
    "print(len(val), 'validation examples')\n",
    "print(len(test), 'test examples')"
   ]
  },
  {
   "cell_type": "code",
   "execution_count": 4,
   "id": "65d16470",
   "metadata": {},
   "outputs": [
    {
     "data": {
      "text/plain": [
       "(1184, 16)"
      ]
     },
     "execution_count": 4,
     "metadata": {},
     "output_type": "execute_result"
    }
   ],
   "source": [
    "train.shape"
   ]
  },
  {
   "cell_type": "code",
   "execution_count": 5,
   "id": "72b6efde",
   "metadata": {},
   "outputs": [
    {
     "data": {
      "text/plain": [
       "(296, 16)"
      ]
     },
     "execution_count": 5,
     "metadata": {},
     "output_type": "execute_result"
    }
   ],
   "source": [
    "val.shape"
   ]
  },
  {
   "cell_type": "code",
   "execution_count": 6,
   "id": "d4acab57",
   "metadata": {},
   "outputs": [
    {
     "name": "stdout",
     "output_type": "stream",
     "text": [
      "<class 'pandas.core.frame.DataFrame'>\n",
      "Index: 1184 entries, 904 to 143\n",
      "Data columns (total 16 columns):\n",
      " #   Column         Non-Null Count  Dtype  \n",
      "---  ------         --------------  -----  \n",
      " 0   Unnamed: 0     1184 non-null   int64  \n",
      " 1   name           1184 non-null   object \n",
      " 2   price          1184 non-null   float64\n",
      " 3   location       1184 non-null   object \n",
      " 4   offerer        1184 non-null   object \n",
      " 5   id             1184 non-null   int64  \n",
      " 6   description    1184 non-null   object \n",
      " 7   year           1184 non-null   int64  \n",
      " 8   manufacturer   1184 non-null   object \n",
      " 9   model          1181 non-null   object \n",
      " 10  category       1184 non-null   object \n",
      " 11  length         1184 non-null   float64\n",
      " 12  fuel_type      1115 non-null   object \n",
      " 13  hull_material  1184 non-null   object \n",
      " 14  hull_shape     243 non-null    object \n",
      " 15  country        1184 non-null   object \n",
      "dtypes: float64(2), int64(3), object(11)\n",
      "memory usage: 157.2+ KB\n"
     ]
    }
   ],
   "source": [
    "train.info()"
   ]
  },
  {
   "cell_type": "code",
   "execution_count": 7,
   "id": "3bac7ce0",
   "metadata": {},
   "outputs": [],
   "source": [
    "def df_to_dataset(df, shuffle=True, batch_size=32):\n",
    "    df = df.copy()\n",
    "    \n",
    "    df = helper.preprocess_df(df)\n",
    "    df, all_cols = helper.create_features(df)\n",
    "    labels = df.pop('price')\n",
    "    ds = tf.data.Dataset.from_tensor_slices((dict(df), labels))\n",
    "    if shuffle:\n",
    "        ds = ds.shuffle(buffer_size=len(df))\n",
    "    ds = ds.batch(batch_size)\n",
    "    return ds, all_cols"
   ]
  },
  {
   "cell_type": "code",
   "execution_count": 8,
   "id": "0b72c561",
   "metadata": {},
   "outputs": [
    {
     "name": "stderr",
     "output_type": "stream",
     "text": [
      "C:\\Online Course\\Projects\\shipping-listing-price-prediction\\helper.py:76: SettingWithCopyWarning: \n",
      "A value is trying to be set on a copy of a slice from a DataFrame\n",
      "\n",
      "See the caveats in the documentation: https://pandas.pydata.org/pandas-docs/stable/user_guide/indexing.html#returning-a-view-versus-a-copy\n",
      "  df.drop(['word_count'], axis=1, inplace=True)\n",
      "C:\\Online Course\\Projects\\shipping-listing-price-prediction\\helper.py:78: SettingWithCopyWarning: \n",
      "A value is trying to be set on a copy of a slice from a DataFrame.\n",
      "Try using .loc[row_indexer,col_indexer] = value instead\n",
      "\n",
      "See the caveats in the documentation: https://pandas.pydata.org/pandas-docs/stable/user_guide/indexing.html#returning-a-view-versus-a-copy\n",
      "  df['description_language'] = df['description'].apply(lambda x:detect(x))\n",
      "C:\\Online Course\\Projects\\shipping-listing-price-prediction\\helper.py:76: SettingWithCopyWarning: \n",
      "A value is trying to be set on a copy of a slice from a DataFrame\n",
      "\n",
      "See the caveats in the documentation: https://pandas.pydata.org/pandas-docs/stable/user_guide/indexing.html#returning-a-view-versus-a-copy\n",
      "  df.drop(['word_count'], axis=1, inplace=True)\n",
      "C:\\Online Course\\Projects\\shipping-listing-price-prediction\\helper.py:78: SettingWithCopyWarning: \n",
      "A value is trying to be set on a copy of a slice from a DataFrame.\n",
      "Try using .loc[row_indexer,col_indexer] = value instead\n",
      "\n",
      "See the caveats in the documentation: https://pandas.pydata.org/pandas-docs/stable/user_guide/indexing.html#returning-a-view-versus-a-copy\n",
      "  df['description_language'] = df['description'].apply(lambda x:detect(x))\n"
     ]
    }
   ],
   "source": [
    "#convert dataframe to dataset\n",
    "batch_size = 32\n",
    "train_ds, all_cols = df_to_dataset(train)\n",
    "val_ds, _ = df_to_dataset(val, shuffle=False, batch_size=batch_size)"
   ]
  },
  {
   "cell_type": "code",
   "execution_count": 9,
   "id": "30b06dac",
   "metadata": {},
   "outputs": [
    {
     "name": "stdout",
     "output_type": "stream",
     "text": [
      "Every feature: ['year', 'model', 'category', 'length', 'fuel_type', 'hull_material', 'country', 'noun_counts', 'verb_counts', 'adjective_counts', 'bilge_pump', 'deck_finish', 'fuel_tank', 'good_condition', 'level_indicator', 'material_grp', 'sailing_yacht', 'stainless_steel', 'tank_litre', 'teak_cockpit', 'avg_price_by_hull_material', 'avg_price_by_fuel_type', 'avg_price_by_category']\n",
      "A batch of fuel tank: tf.Tensor(\n",
      "[b'diesel' b'diesel' b'diesel' b'diesel' b'diesel' b'diesel' b'diesel'\n",
      " b'diesel' b'diesel' b'petrol' b'diesel' b'diesel' b'diesel' b'diesel'\n",
      " b'diesel' b'diesel' b'diesel' b'petrol' b'diesel' b'diesel' b'diesel'\n",
      " b'diesel' b'diesel' b'diesel' b'petrol' b'diesel' b'diesel' b'diesel'\n",
      " b'diesel' b'diesel' b'diesel' b'diesel'], shape=(32,), dtype=string)\n",
      "A batch of country: tf.Tensor(\n",
      "[b'italy' b'netherlands' b'afghanistan' b'spain' b'afghanistan'\n",
      " b'afghanistan' b'afghanistan' b'germany' b'greece' b'germany'\n",
      " b'afghanistan' b'italy' b'afghanistan' b'netherlands' b'afghanistan'\n",
      " b'netherlands' b'germany' b'spain' b'afghanistan' b'croatia' b'italy'\n",
      " b'spain' b'italy' b'portugal' b'afghanistan' b'netherlands' b'france'\n",
      " b'afghanistan' b'austria' b'afghanistan' b'germany' b'netherlands'], shape=(32,), dtype=string)\n",
      "A batch of model: tf.Tensor(\n",
      "[b'segelyachten' b'slup_boote' b'segelyachten' b'racer_cruiser_segelboote'\n",
      " b'segelyachten' b'racer_cruiser_segelboote' b'sonstige_segelboote'\n",
      " b'daysailers' b'slup_boote' b'daysailers' b'segelyachten'\n",
      " b'racer_cruiser_segelboote' b'daysailers' b'slup_boote'\n",
      " b'sonstige_segelboote' b'slup_boote' b'segelyachten'\n",
      " b'klassische_segelboote' b'slup_boote' b'slup_boote' b'racer_segelboote'\n",
      " b'sonstige_segelboote' b'segelyachten' b'slup_boote' b'segelyachten'\n",
      " b'slup_boote' b'slup_boote' b'daysailers' b'katamarane'\n",
      " b'klassische_segelboote' b'daysailers' b'slup_boote'], shape=(32,), dtype=string)\n",
      "A batch of targets: tf.Tensor(\n",
      "[313905.  59500.  82000. 158000.  99000. 561375.  29500.  23500. 110000.\n",
      "  85500. 136483. 561375.  75000. 165000. 118000. 249500.  38000.   9995.\n",
      "  89900. 255000. 163000. 561375. 561375. 561375.  28800.  36000. 561375.\n",
      " 225000.   4890.  24900.  89000.  34500.], shape=(32,), dtype=float64)\n"
     ]
    }
   ],
   "source": [
    "#sanity checking\n",
    "for feature_batch, label_batch in train_ds.take(1):\n",
    "    print('Every feature:', list(feature_batch.keys()))\n",
    "    print('A batch of fuel tank:', feature_batch['fuel_type'])\n",
    "    print('A batch of country:', feature_batch['country'])\n",
    "    print('A batch of model:', feature_batch['category'])\n",
    "    print('A batch of targets:', label_batch)"
   ]
  },
  {
   "cell_type": "code",
   "execution_count": 10,
   "id": "0dc3ab4d",
   "metadata": {},
   "outputs": [],
   "source": [
    "fileName = 'model/column_names.pkl'\n",
    "with open(fileName,'wb') as f:\n",
    "    pickle.dump(all_cols,f)"
   ]
  },
  {
   "cell_type": "code",
   "execution_count": 11,
   "id": "4cfaee48",
   "metadata": {},
   "outputs": [],
   "source": [
    "float_normalized_cols = ['length', 'noun_counts', 'verb_counts', 'adjective_counts', 'avg_price_by_hull_material',\n",
    "                        'avg_price_by_fuel_type', 'avg_price_by_category']\n",
    "float_cols = ['bilge_pump', 'deck_finish', 'fuel_tank', 'level_indicator', 'material_grp', 'mehr_anzeigen',\n",
    "             'sailing_yacht', 'stainless_steel', 'tank_litre', 'teak_cockpit']\n",
    "string_categorical_cols = ['model', 'category', 'hull_material', 'country', 'fuel_type']\n",
    "float_discretized_cols = ['year']\n",
    "\n",
    "float_normalized = 'float_normalized'\n",
    "just_float = 'float'\n",
    "string_categorical = 'string_categorical'\n",
    "float_discretized = 'float_discretized'"
   ]
  },
  {
   "cell_type": "code",
   "execution_count": 12,
   "id": "b652f142",
   "metadata": {},
   "outputs": [],
   "source": [
    "all_keys = sorted(float_normalized_cols + float_cols + string_categorical_cols)\n",
    "features_dict = {key: float_normalized if key in float_normalized_cols else (just_float if key in float_cols else string_categorical) for key in all_keys}"
   ]
  },
  {
   "cell_type": "code",
   "execution_count": 13,
   "id": "41ace377",
   "metadata": {},
   "outputs": [],
   "source": [
    "features_dict['year'] = FeatureSpace.float_discretized(num_bins=10)"
   ]
  },
  {
   "cell_type": "code",
   "execution_count": 14,
   "id": "10165a7d",
   "metadata": {},
   "outputs": [
    {
     "data": {
      "text/plain": [
       "{'adjective_counts': 'float_normalized',\n",
       " 'avg_price_by_category': 'float_normalized',\n",
       " 'avg_price_by_fuel_type': 'float_normalized',\n",
       " 'avg_price_by_hull_material': 'float_normalized',\n",
       " 'bilge_pump': 'float',\n",
       " 'category': 'string_categorical',\n",
       " 'country': 'string_categorical',\n",
       " 'deck_finish': 'float',\n",
       " 'fuel_tank': 'float',\n",
       " 'fuel_type': 'string_categorical',\n",
       " 'hull_material': 'string_categorical',\n",
       " 'length': 'float_normalized',\n",
       " 'level_indicator': 'float',\n",
       " 'material_grp': 'float',\n",
       " 'mehr_anzeigen': 'float',\n",
       " 'model': 'string_categorical',\n",
       " 'noun_counts': 'float_normalized',\n",
       " 'sailing_yacht': 'float',\n",
       " 'stainless_steel': 'float',\n",
       " 'tank_litre': 'float',\n",
       " 'teak_cockpit': 'float',\n",
       " 'verb_counts': 'float_normalized',\n",
       " 'year': <keras.src.utils.feature_space.Feature at 0x1e330811510>}"
      ]
     },
     "execution_count": 14,
     "metadata": {},
     "output_type": "execute_result"
    }
   ],
   "source": [
    "features_dict"
   ]
  },
  {
   "cell_type": "code",
   "execution_count": 15,
   "id": "e32da840",
   "metadata": {},
   "outputs": [],
   "source": [
    "feature_space = FeatureSpace(\n",
    "    features={\n",
    "    \"adjective_counts\": 'float_normalized',\n",
    "    \"avg_price_by_category\": 'float_normalized',\n",
    "    \"avg_price_by_fuel_type\": 'float_normalized',\n",
    "    \"avg_price_by_hull_material\": 'float_normalized',\n",
    "    \"bilge_pump\": 'float',\n",
    "    \"category\": 'string_categorical',\n",
    "    \"country\": 'string_categorical',\n",
    "    \"deck_finish\": 'float',\n",
    "    \"fuel_tank\": 'float',\n",
    "    \"fuel_type\": 'string_categorical',\n",
    "    \"hull_material\": 'string_categorical',\n",
    "    \"length\": 'float_normalized',\n",
    "    \"level_indicator\": 'float',\n",
    "    \"material_grp\": 'float',\n",
    "    \"good_condition\": 'float',\n",
    "    \"model\": 'string_categorical',\n",
    "    \"noun_counts\": 'float_normalized',\n",
    "    \"sailing_yacht\": 'float',\n",
    "    \"stainless_steel\": 'float',\n",
    "    \"tank_litre\": 'float',\n",
    "    \"teak_cockpit\": 'float',\n",
    "    \"verb_counts\": 'float_normalized',\n",
    "    \"year\": FeatureSpace.float_discretized(num_bins=10)\n",
    "    },\n",
    "    output_mode=\"concat\",\n",
    "    crosses=[\n",
    "        FeatureSpace.cross(feature_names=(\"model\", \"category\"), crossing_dim=64),\n",
    "        FeatureSpace.cross(feature_names=(\"hull_material\", \"category\"), crossing_dim=16),\n",
    "        FeatureSpace.cross(feature_names=(\"fuel_type\", \"category\"), crossing_dim=16),\n",
    "        \n",
    "    ],\n",
    ")\n",
    "\n",
    "#needs to adapt the feature_space. Reminder: feature_space needs to be adapted to a dataset WITHOUT LABEL\n",
    "train_ds_with_no_labels = train_ds.map(lambda x, _: x)\n",
    "feature_space.adapt(train_ds_with_no_labels)"
   ]
  },
  {
   "cell_type": "code",
   "execution_count": 16,
   "id": "3eb0eb65",
   "metadata": {},
   "outputs": [],
   "source": [
    "feature_space.save('model/feature_space.keras')"
   ]
  },
  {
   "cell_type": "code",
   "execution_count": 17,
   "id": "2a7e1f44",
   "metadata": {},
   "outputs": [
    {
     "name": "stdout",
     "output_type": "stream",
     "text": [
      "preprocessed_x.shape: (32, 956)\n",
      "preprocessed_x.dtype: <dtype: 'float32'>\n"
     ]
    }
   ],
   "source": [
    "#checking the dataset shape\n",
    "for x, _ in train_ds.take(1):\n",
    "    preprocessed_x = feature_space(x)\n",
    "    print(\"preprocessed_x.shape:\", preprocessed_x.shape)\n",
    "    print(\"preprocessed_x.dtype:\", preprocessed_x.dtype)"
   ]
  },
  {
   "cell_type": "code",
   "execution_count": 18,
   "id": "5b7ca2d6",
   "metadata": {},
   "outputs": [],
   "source": [
    "def rmse(y_true, y_pred):  # Root mean square error\n",
    "    return tf.sqrt(tf.reduce_mean(tf.square(y_pred - y_true)))"
   ]
  },
  {
   "cell_type": "code",
   "execution_count": 19,
   "id": "a6c0804d",
   "metadata": {},
   "outputs": [],
   "source": [
    "#remapping to label\n",
    "preprocessed_train_ds = train_ds.map(\n",
    "    lambda x, y: (feature_space(x), y), num_parallel_calls=tf.data.AUTOTUNE\n",
    ")\n",
    "preprocessed_train_ds = preprocessed_train_ds.prefetch(tf.data.AUTOTUNE)\n",
    "\n",
    "#To make sure the training data is read infinitely\n",
    "preprocessed_train_ds = preprocessed_train_ds.repeat()\n",
    "\n",
    "preprocessed_val_ds = val_ds.map(\n",
    "    lambda x, y: (feature_space(x), y), num_parallel_calls=tf.data.AUTOTUNE\n",
    ")\n",
    "preprocessed_val_ds = preprocessed_val_ds.prefetch(tf.data.AUTOTUNE)"
   ]
  },
  {
   "cell_type": "code",
   "execution_count": 20,
   "id": "fc40377b",
   "metadata": {},
   "outputs": [],
   "source": [
    "dict_inputs = feature_space.get_inputs()\n",
    "encoded_features = feature_space.get_encoded_features()\n",
    "x = keras.layers.Dense(32, activation=\"relu\")(encoded_features)\n",
    "x = keras.layers.Dropout(0.5)(x) #using dropout layer to avoid overfitting\n",
    "x = keras.layers.Dense(64, activation=\"relu\")(x)\n",
    "x = keras.layers.Dropout(0.5)(x)\n",
    "x = keras.layers.Dense(128, activation=\"relu\")(x)\n",
    "x = keras.layers.Dropout(0.5)(x)\n",
    "x = keras.layers.Dense(256, activation=\"relu\")(x)\n",
    "x = keras.layers.Dropout(0.5)(x)\n",
    "x = keras.layers.Dense(512, activation=\"relu\")(x)\n",
    "x = keras.layers.Dropout(0.5)(x)\n",
    "predictions = keras.layers.Dense(1, activation=\"linear\")(x)\n",
    "\n",
    "#1st model: training_model\n",
    "training_model = keras.Model(inputs=encoded_features, outputs=predictions)\n",
    "training_model.compile(\n",
    "    optimizer=\"adam\", loss=\"mse\", metrics=[rmse, \"mse\"]\n",
    ")\n",
    "\n",
    "#2nd model: inference_model\n",
    "inference_model = keras.Model(inputs=dict_inputs, outputs=predictions)"
   ]
  },
  {
   "cell_type": "code",
   "execution_count": 21,
   "id": "e35885df",
   "metadata": {},
   "outputs": [],
   "source": [
    "TRAIN_BATCH_SIZE = 32 \n",
    "NUM_TRAIN_EXAMPLES = 59621 * 5\n",
    "NUM_EVALS = 500\n",
    "NUM_EVAL_EXAMPLES = 14906\n",
    "\n",
    "steps_per_epoch = NUM_TRAIN_EXAMPLES // (TRAIN_BATCH_SIZE * NUM_EVALS)\n",
    "#early stopping to avoid overfitting\n",
    "early_stopping = tf.keras.callbacks.EarlyStopping(patience=20, restore_best_weights=True)"
   ]
  },
  {
   "cell_type": "code",
   "execution_count": 22,
   "id": "26421907",
   "metadata": {},
   "outputs": [
    {
     "name": "stdout",
     "output_type": "stream",
     "text": [
      "Epoch 1/500\n",
      "18/18 [==============================] - 1s 26ms/step - loss: 57669656576.0000 - rmse: 237559.3594 - mse: 57669656576.0000 - val_loss: 70600376320.0000 - val_rmse: 261060.8750 - val_mse: 70600376320.0000\n",
      "Epoch 2/500\n",
      "18/18 [==============================] - 0s 19ms/step - loss: 50857299968.0000 - rmse: 224704.3438 - mse: 50857299968.0000 - val_loss: 70469836800.0000 - val_rmse: 260818.4688 - val_mse: 70469836800.0000\n",
      "Epoch 3/500\n",
      "18/18 [==============================] - 0s 16ms/step - loss: 55515230208.0000 - rmse: 232858.2500 - mse: 55515230208.0000 - val_loss: 68260470784.0000 - val_rmse: 256675.4531 - val_mse: 68260470784.0000\n",
      "Epoch 4/500\n",
      "18/18 [==============================] - 0s 17ms/step - loss: 49710137344.0000 - rmse: 219768.1562 - mse: 49710137344.0000 - val_loss: 50541539328.0000 - val_rmse: 220835.0469 - val_mse: 50541539328.0000\n",
      "Epoch 5/500\n",
      "18/18 [==============================] - 0s 17ms/step - loss: 28693653504.0000 - rmse: 168000.9688 - mse: 28693653504.0000 - val_loss: 29653936128.0000 - val_rmse: 170715.6875 - val_mse: 29653936128.0000\n",
      "Epoch 6/500\n",
      "18/18 [==============================] - 0s 17ms/step - loss: 24408569856.0000 - rmse: 155408.4688 - mse: 24408569856.0000 - val_loss: 26209660928.0000 - val_rmse: 160039.1406 - val_mse: 26209660928.0000\n",
      "Epoch 7/500\n",
      "18/18 [==============================] - 0s 17ms/step - loss: 17963792384.0000 - rmse: 131778.9062 - mse: 17963792384.0000 - val_loss: 22508654592.0000 - val_rmse: 148181.1719 - val_mse: 22508654592.0000\n",
      "Epoch 8/500\n",
      "18/18 [==============================] - 0s 17ms/step - loss: 16621200384.0000 - rmse: 128227.4844 - mse: 16621200384.0000 - val_loss: 19783911424.0000 - val_rmse: 138680.0781 - val_mse: 19783911424.0000\n",
      "Epoch 9/500\n",
      "18/18 [==============================] - 0s 19ms/step - loss: 14069707776.0000 - rmse: 117408.2656 - mse: 14069707776.0000 - val_loss: 16220844032.0000 - val_rmse: 125373.8594 - val_mse: 16220844032.0000\n",
      "Epoch 10/500\n",
      "18/18 [==============================] - 0s 20ms/step - loss: 12934819840.0000 - rmse: 112750.5000 - mse: 12934819840.0000 - val_loss: 14378157056.0000 - val_rmse: 117493.7031 - val_mse: 14378157056.0000\n",
      "Epoch 11/500\n",
      "18/18 [==============================] - 0s 15ms/step - loss: 10376400896.0000 - rmse: 100289.4531 - mse: 10376400896.0000 - val_loss: 12239648768.0000 - val_rmse: 108231.3047 - val_mse: 12239647744.0000\n",
      "Epoch 12/500\n",
      "18/18 [==============================] - 0s 13ms/step - loss: 9521892352.0000 - rmse: 95020.5938 - mse: 9521892352.0000 - val_loss: 10938567680.0000 - val_rmse: 102082.2969 - val_mse: 10938567680.0000\n",
      "Epoch 13/500\n",
      "18/18 [==============================] - 0s 13ms/step - loss: 8935300096.0000 - rmse: 93323.6875 - mse: 8935300096.0000 - val_loss: 11291332608.0000 - val_rmse: 103613.7500 - val_mse: 11291332608.0000\n",
      "Epoch 14/500\n",
      "18/18 [==============================] - 0s 13ms/step - loss: 10570052608.0000 - rmse: 100313.4062 - mse: 10570052608.0000 - val_loss: 10034718720.0000 - val_rmse: 97740.0312 - val_mse: 10034718720.0000\n",
      "Epoch 15/500\n",
      "18/18 [==============================] - 0s 13ms/step - loss: 8618105856.0000 - rmse: 91938.5156 - mse: 8618105856.0000 - val_loss: 9997805568.0000 - val_rmse: 97598.7422 - val_mse: 9997805568.0000\n",
      "Epoch 16/500\n",
      "18/18 [==============================] - 0s 13ms/step - loss: 7755743744.0000 - rmse: 86318.1406 - mse: 7755743744.0000 - val_loss: 7950094848.0000 - val_rmse: 87215.1172 - val_mse: 7950094848.0000\n",
      "Epoch 17/500\n",
      "18/18 [==============================] - 0s 15ms/step - loss: 7328769536.0000 - rmse: 82612.2656 - mse: 7328769536.0000 - val_loss: 8313555968.0000 - val_rmse: 88931.8594 - val_mse: 8313555968.0000\n",
      "Epoch 18/500\n",
      "18/18 [==============================] - 0s 24ms/step - loss: 8025966080.0000 - rmse: 87406.1797 - mse: 8025966080.0000 - val_loss: 9657792512.0000 - val_rmse: 95546.9688 - val_mse: 9657792512.0000\n",
      "Epoch 19/500\n",
      "18/18 [==============================] - 0s 24ms/step - loss: 7685388288.0000 - rmse: 86182.5078 - mse: 7685388288.0000 - val_loss: 7534474240.0000 - val_rmse: 84643.1016 - val_mse: 7534474240.0000\n",
      "Epoch 20/500\n",
      "18/18 [==============================] - 0s 22ms/step - loss: 7210844160.0000 - rmse: 83260.8672 - mse: 7210844160.0000 - val_loss: 9511825408.0000 - val_rmse: 94809.0312 - val_mse: 9511825408.0000\n",
      "Epoch 21/500\n",
      "18/18 [==============================] - 0s 21ms/step - loss: 7190099456.0000 - rmse: 83312.6719 - mse: 7190099456.0000 - val_loss: 7706650624.0000 - val_rmse: 85593.1875 - val_mse: 7706650624.0000\n",
      "Epoch 22/500\n",
      "18/18 [==============================] - 0s 22ms/step - loss: 6587937792.0000 - rmse: 79816.5703 - mse: 6587937792.0000 - val_loss: 7779830784.0000 - val_rmse: 85759.4688 - val_mse: 7779830784.0000\n",
      "Epoch 23/500\n",
      "18/18 [==============================] - 0s 20ms/step - loss: 7438578688.0000 - rmse: 83703.2812 - mse: 7438578688.0000 - val_loss: 8380488704.0000 - val_rmse: 88889.2031 - val_mse: 8380488704.0000\n",
      "Epoch 24/500\n",
      "18/18 [==============================] - 0s 21ms/step - loss: 6921889792.0000 - rmse: 81443.4531 - mse: 6921889792.0000 - val_loss: 7040504320.0000 - val_rmse: 81616.4219 - val_mse: 7040504320.0000\n",
      "Epoch 25/500\n",
      "18/18 [==============================] - 0s 20ms/step - loss: 5882289664.0000 - rmse: 75692.2969 - mse: 5882289664.0000 - val_loss: 7949736448.0000 - val_rmse: 86506.5547 - val_mse: 7949736448.0000\n",
      "Epoch 26/500\n",
      "18/18 [==============================] - 0s 20ms/step - loss: 6287330816.0000 - rmse: 77919.0312 - mse: 6287330816.0000 - val_loss: 6954867200.0000 - val_rmse: 81019.2266 - val_mse: 6954867200.0000\n",
      "Epoch 27/500\n",
      "18/18 [==============================] - 0s 20ms/step - loss: 5604734464.0000 - rmse: 71450.0938 - mse: 5604734464.0000 - val_loss: 7348721664.0000 - val_rmse: 83140.6797 - val_mse: 7348721664.0000\n",
      "Epoch 28/500\n",
      "18/18 [==============================] - 0s 23ms/step - loss: 7337155072.0000 - rmse: 83585.6953 - mse: 7337155072.0000 - val_loss: 7629694464.0000 - val_rmse: 84756.0625 - val_mse: 7629694464.0000\n",
      "Epoch 29/500\n",
      "18/18 [==============================] - 0s 17ms/step - loss: 4996336640.0000 - rmse: 69402.9219 - mse: 4996336640.0000 - val_loss: 7365917184.0000 - val_rmse: 83465.3906 - val_mse: 7365917184.0000\n",
      "Epoch 30/500\n",
      "18/18 [==============================] - 0s 18ms/step - loss: 4355595776.0000 - rmse: 63883.6680 - mse: 4355595776.0000 - val_loss: 7446852608.0000 - val_rmse: 83799.9375 - val_mse: 7446852608.0000\n",
      "Epoch 31/500\n",
      "18/18 [==============================] - 0s 17ms/step - loss: 6846105088.0000 - rmse: 81175.8047 - mse: 6846105088.0000 - val_loss: 7068140032.0000 - val_rmse: 81717.8047 - val_mse: 7068140032.0000\n",
      "Epoch 32/500\n",
      "18/18 [==============================] - 0s 15ms/step - loss: 5475506176.0000 - rmse: 72929.3438 - mse: 5475506176.0000 - val_loss: 7185914368.0000 - val_rmse: 82281.2109 - val_mse: 7185914368.0000\n",
      "Epoch 33/500\n",
      "18/18 [==============================] - 0s 17ms/step - loss: 5232478720.0000 - rmse: 70716.1094 - mse: 5232478720.0000 - val_loss: 6661629952.0000 - val_rmse: 79237.8750 - val_mse: 6661629952.0000\n",
      "Epoch 34/500\n",
      "18/18 [==============================] - 0s 21ms/step - loss: 5710791680.0000 - rmse: 72692.4375 - mse: 5710791680.0000 - val_loss: 8704100352.0000 - val_rmse: 90259.8984 - val_mse: 8704100352.0000\n",
      "Epoch 35/500\n",
      "18/18 [==============================] - 0s 23ms/step - loss: 6619856896.0000 - rmse: 77411.9609 - mse: 6619856896.0000 - val_loss: 8054793216.0000 - val_rmse: 86987.1094 - val_mse: 8054793216.0000\n",
      "Epoch 36/500\n",
      "18/18 [==============================] - 0s 20ms/step - loss: 5522365440.0000 - rmse: 72731.5938 - mse: 5522365440.0000 - val_loss: 7018989568.0000 - val_rmse: 81371.3594 - val_mse: 7018989568.0000\n",
      "Epoch 37/500\n",
      "18/18 [==============================] - 0s 18ms/step - loss: 4973758464.0000 - rmse: 68954.8984 - mse: 4973758464.0000 - val_loss: 7094808576.0000 - val_rmse: 81743.2734 - val_mse: 7094808576.0000\n",
      "Epoch 38/500\n",
      "18/18 [==============================] - 0s 19ms/step - loss: 5386601984.0000 - rmse: 70741.6797 - mse: 5386601984.0000 - val_loss: 7195721728.0000 - val_rmse: 82226.4375 - val_mse: 7195721728.0000\n",
      "Epoch 39/500\n"
     ]
    },
    {
     "name": "stdout",
     "output_type": "stream",
     "text": [
      "18/18 [==============================] - 0s 18ms/step - loss: 4863305728.0000 - rmse: 67615.1875 - mse: 4863305728.0000 - val_loss: 7602630656.0000 - val_rmse: 84485.8906 - val_mse: 7602630656.0000\n",
      "Epoch 40/500\n",
      "18/18 [==============================] - 0s 17ms/step - loss: 5105281024.0000 - rmse: 70063.6172 - mse: 5105281024.0000 - val_loss: 7599771648.0000 - val_rmse: 84397.3203 - val_mse: 7599771648.0000\n",
      "Epoch 41/500\n",
      "18/18 [==============================] - 0s 14ms/step - loss: 5584182784.0000 - rmse: 71945.3828 - mse: 5584182784.0000 - val_loss: 7051827200.0000 - val_rmse: 81401.2344 - val_mse: 7051827200.0000\n",
      "Epoch 42/500\n",
      "18/18 [==============================] - 0s 14ms/step - loss: 5343994368.0000 - rmse: 71515.7344 - mse: 5343994368.0000 - val_loss: 8028894720.0000 - val_rmse: 86715.4219 - val_mse: 8028894720.0000\n",
      "Epoch 43/500\n",
      "18/18 [==============================] - 0s 16ms/step - loss: 5037155840.0000 - rmse: 69566.3281 - mse: 5037155840.0000 - val_loss: 8194133504.0000 - val_rmse: 87725.4688 - val_mse: 8194133504.0000\n",
      "Epoch 44/500\n",
      "18/18 [==============================] - 0s 15ms/step - loss: 4156146944.0000 - rmse: 62242.1445 - mse: 4156146944.0000 - val_loss: 7936789504.0000 - val_rmse: 86407.6797 - val_mse: 7936789504.0000\n",
      "Epoch 45/500\n",
      "18/18 [==============================] - 0s 15ms/step - loss: 5799113216.0000 - rmse: 73015.0625 - mse: 5799113216.0000 - val_loss: 8414470656.0000 - val_rmse: 88926.5625 - val_mse: 8414470656.0000\n",
      "Epoch 46/500\n",
      "18/18 [==============================] - 0s 15ms/step - loss: 4499310592.0000 - rmse: 65006.1406 - mse: 4499310592.0000 - val_loss: 7283346944.0000 - val_rmse: 82840.2812 - val_mse: 7283346944.0000\n",
      "Epoch 47/500\n",
      "18/18 [==============================] - 0s 15ms/step - loss: 4622090752.0000 - rmse: 65393.2227 - mse: 4622090752.0000 - val_loss: 7611640320.0000 - val_rmse: 84540.2969 - val_mse: 7611640320.0000\n",
      "Epoch 48/500\n",
      "18/18 [==============================] - 0s 18ms/step - loss: 4831036416.0000 - rmse: 68559.2969 - mse: 4831036416.0000 - val_loss: 6914276864.0000 - val_rmse: 80679.2891 - val_mse: 6914276864.0000\n",
      "Epoch 49/500\n",
      "18/18 [==============================] - 0s 19ms/step - loss: 4815422464.0000 - rmse: 67858.4375 - mse: 4815422464.0000 - val_loss: 7465501184.0000 - val_rmse: 83712.6094 - val_mse: 7465501184.0000\n",
      "Epoch 50/500\n",
      "18/18 [==============================] - 0s 19ms/step - loss: 4400269312.0000 - rmse: 65300.0781 - mse: 4400269312.0000 - val_loss: 7280860160.0000 - val_rmse: 82655.1094 - val_mse: 7280860160.0000\n",
      "Epoch 51/500\n",
      "18/18 [==============================] - 0s 18ms/step - loss: 4196891648.0000 - rmse: 62901.3047 - mse: 4196891648.0000 - val_loss: 6915930624.0000 - val_rmse: 80617.9688 - val_mse: 6915930624.0000\n",
      "Epoch 52/500\n",
      "18/18 [==============================] - 0s 16ms/step - loss: 4517426176.0000 - rmse: 65356.6406 - mse: 4517426176.0000 - val_loss: 7618694656.0000 - val_rmse: 84460.3047 - val_mse: 7618694656.0000\n",
      "Epoch 53/500\n",
      "18/18 [==============================] - 0s 16ms/step - loss: 4254213120.0000 - rmse: 63292.3477 - mse: 4254213120.0000 - val_loss: 7297230336.0000 - val_rmse: 82585.0078 - val_mse: 7297230336.0000\n"
     ]
    }
   ],
   "source": [
    "#training the model\n",
    "history = training_model.fit(preprocessed_train_ds,\n",
    "                    validation_data=preprocessed_val_ds,\n",
    "                    epochs=NUM_EVALS,\n",
    "                    steps_per_epoch=steps_per_epoch,\n",
    "                    callbacks=[early_stopping]\n",
    "                    )"
   ]
  },
  {
   "cell_type": "code",
   "execution_count": 23,
   "id": "277a1ab9",
   "metadata": {},
   "outputs": [],
   "source": [
    "def plot_curves(history, metrics):\n",
    "    nrows = 1\n",
    "    ncols = 2\n",
    "    fig = plt.figure(figsize=(10, 5))\n",
    "\n",
    "    for idx, key in enumerate(metrics):  \n",
    "        ax = fig.add_subplot(nrows, ncols, idx+1)\n",
    "        plt.plot(history.history[key])\n",
    "        plt.plot(history.history['val_{}'.format(key)])\n",
    "        plt.title('model {}'.format(key))\n",
    "        plt.ylabel(key)\n",
    "        plt.xlabel('epoch')\n",
    "        plt.legend(['train', 'validation'], loc='upper right');    "
   ]
  },
  {
   "cell_type": "code",
   "execution_count": 24,
   "id": "0ff47d31",
   "metadata": {},
   "outputs": [
    {
     "data": {
      "image/png": "[encoded data removed]",
      "text/plain": [
       "<Figure size 1000x500 with 2 Axes>"
      ]
     },
     "metadata": {},
     "output_type": "display_data"
    }
   ],
   "source": [
    "plot_curves(history, ['loss', 'mse'])"
   ]
  },
  {
   "cell_type": "code",
   "execution_count": 25,
   "id": "2baa6af9",
   "metadata": {},
   "outputs": [],
   "source": [
    "#creating a sample data\n",
    "sample = {\n",
    "    \"year\":tf.convert_to_tensor([2010.]),\n",
    "    \"model\":tf.convert_to_tensor(['gulet']),\n",
    "    \"category\":tf.convert_to_tensor(['schoner']),\n",
    "    \"length\":tf.convert_to_tensor([83.]),\n",
    "    \"fuel_type\":tf.convert_to_tensor(['diesel']),\n",
    "    \"hull_material\":tf.convert_to_tensor(['steel']),\n",
    "    \"country\":tf.convert_to_tensor(['turkey']),\n",
    "    \"noun_counts\":tf.convert_to_tensor([20.]),\n",
    "    \"verb_counts\":tf.convert_to_tensor([20.]),\n",
    "    \"adjective_counts\":tf.convert_to_tensor([20.]),\n",
    "    \"bilge_pump\":tf.convert_to_tensor([1.]),\n",
    "    \"deck_finish\":tf.convert_to_tensor([0.]),\n",
    "    \"fuel_tank\":tf.convert_to_tensor([1.]),\n",
    "    \"level_indicator\":tf.convert_to_tensor([1.]),\n",
    "    \"material_grp\":tf.convert_to_tensor([0.]),\n",
    "    \"good_condition\":tf.convert_to_tensor([0.]),\n",
    "    \"sailing_yacht\":tf.convert_to_tensor([1.]),\n",
    "    \"stainless_steel\":tf.convert_to_tensor([0.]),\n",
    "    \"tank_litre\":tf.convert_to_tensor([1.]),\n",
    "    \"teak_cockpit\":tf.convert_to_tensor([1.]),\n",
    "    \"avg_price_by_hull_material\":tf.convert_to_tensor([173764.8396226415]),\n",
    "    \"avg_price_by_fuel_type\":tf.convert_to_tensor([172121.64462209304]),\n",
    "    \"avg_price_by_category\":tf.convert_to_tensor([476125.0]),\n",
    "    \n",
    "}"
   ]
  },
  {
   "cell_type": "code",
   "execution_count": 26,
   "id": "760be385",
   "metadata": {},
   "outputs": [],
   "source": [
    "from tensorflow.keras.models import save_model, load_model"
   ]
  },
  {
   "cell_type": "code",
   "execution_count": 27,
   "id": "6063a6d9",
   "metadata": {},
   "outputs": [
    {
     "name": "stdout",
     "output_type": "stream",
     "text": [
      "1/1 [==============================] - 0s 370ms/step\n"
     ]
    },
    {
     "data": {
      "text/plain": [
       "array([[2769858.8]], dtype=float32)"
      ]
     },
     "execution_count": 27,
     "metadata": {},
     "output_type": "execute_result"
    }
   ],
   "source": [
    "inference_model.save(\"model/inference_model.keras\")\n",
    "reconstructed_model = load_model(\"model/inference_model.keras\")\n",
    "reconstructed_model.predict(sample)"
   ]
  },
  {
   "cell_type": "code",
   "execution_count": 28,
   "id": "79e5875f",
   "metadata": {},
   "outputs": [
    {
     "name": "stderr",
     "output_type": "stream",
     "text": [
      "C:\\Online Course\\Projects\\shipping-listing-price-prediction\\helper.py:76: SettingWithCopyWarning: \n",
      "A value is trying to be set on a copy of a slice from a DataFrame\n",
      "\n",
      "See the caveats in the documentation: https://pandas.pydata.org/pandas-docs/stable/user_guide/indexing.html#returning-a-view-versus-a-copy\n",
      "  df.drop(['word_count'], axis=1, inplace=True)\n",
      "C:\\Online Course\\Projects\\shipping-listing-price-prediction\\helper.py:78: SettingWithCopyWarning: \n",
      "A value is trying to be set on a copy of a slice from a DataFrame.\n",
      "Try using .loc[row_indexer,col_indexer] = value instead\n",
      "\n",
      "See the caveats in the documentation: https://pandas.pydata.org/pandas-docs/stable/user_guide/indexing.html#returning-a-view-versus-a-copy\n",
      "  df['description_language'] = df['description'].apply(lambda x:detect(x))\n"
     ]
    }
   ],
   "source": [
    "test_temp = helper.preprocess_df(test)\n",
    "df_test,_ = helper.create_features(test_temp)"
   ]
  },
  {
   "cell_type": "code",
   "execution_count": 29,
   "id": "22a587c8",
   "metadata": {},
   "outputs": [],
   "source": [
    "test_price = df_test.price.tolist()\n",
    "df_test.drop('price', axis=1,inplace=True)"
   ]
  },
  {
   "cell_type": "code",
   "execution_count": 30,
   "id": "3b414a43",
   "metadata": {},
   "outputs": [],
   "source": [
    "list_of_dicts = [row.to_dict() for _, row in df_test.iterrows()]"
   ]
  },
  {
   "cell_type": "code",
   "execution_count": 31,
   "id": "50cf9080",
   "metadata": {},
   "outputs": [
    {
     "name": "stdout",
     "output_type": "stream",
     "text": [
      "1/1 [==============================] - 1s 550ms/step\n",
      "1/1 [==============================] - 0s 30ms/step\n",
      "1/1 [==============================] - 0s 32ms/step\n",
      "1/1 [==============================] - 0s 33ms/step\n",
      "1/1 [==============================] - 0s 32ms/step\n",
      "1/1 [==============================] - 0s 30ms/step\n",
      "1/1 [==============================] - 0s 29ms/step\n",
      "1/1 [==============================] - 0s 36ms/step\n",
      "1/1 [==============================] - 0s 41ms/step\n",
      "1/1 [==============================] - 0s 36ms/step\n",
      "1/1 [==============================] - 0s 31ms/step\n",
      "1/1 [==============================] - 0s 26ms/step\n",
      "1/1 [==============================] - 0s 28ms/step\n",
      "1/1 [==============================] - 0s 31ms/step\n",
      "1/1 [==============================] - 0s 29ms/step\n",
      "1/1 [==============================] - 0s 29ms/step\n",
      "1/1 [==============================] - 0s 33ms/step\n",
      "1/1 [==============================] - 0s 28ms/step\n",
      "1/1 [==============================] - 0s 28ms/step\n",
      "1/1 [==============================] - 0s 29ms/step\n",
      "1/1 [==============================] - 0s 29ms/step\n",
      "1/1 [==============================] - 0s 26ms/step\n",
      "1/1 [==============================] - 0s 28ms/step\n",
      "1/1 [==============================] - 0s 41ms/step\n",
      "1/1 [==============================] - 0s 36ms/step\n",
      "1/1 [==============================] - 0s 32ms/step\n",
      "1/1 [==============================] - 0s 32ms/step\n",
      "1/1 [==============================] - 0s 28ms/step\n",
      "1/1 [==============================] - 0s 32ms/step\n",
      "1/1 [==============================] - 0s 36ms/step\n",
      "1/1 [==============================] - 0s 29ms/step\n",
      "1/1 [==============================] - 0s 33ms/step\n",
      "1/1 [==============================] - 0s 30ms/step\n",
      "1/1 [==============================] - 0s 30ms/step\n",
      "1/1 [==============================] - 0s 30ms/step\n",
      "1/1 [==============================] - 0s 29ms/step\n",
      "1/1 [==============================] - 0s 29ms/step\n",
      "1/1 [==============================] - 0s 27ms/step\n",
      "1/1 [==============================] - 0s 30ms/step\n",
      "1/1 [==============================] - 0s 30ms/step\n",
      "1/1 [==============================] - 0s 30ms/step\n",
      "1/1 [==============================] - 0s 33ms/step\n",
      "1/1 [==============================] - 0s 31ms/step\n",
      "1/1 [==============================] - 0s 31ms/step\n",
      "1/1 [==============================] - 0s 32ms/step\n",
      "1/1 [==============================] - 0s 31ms/step\n",
      "1/1 [==============================] - 0s 29ms/step\n",
      "1/1 [==============================] - 0s 28ms/step\n",
      "1/1 [==============================] - 0s 39ms/step\n",
      "1/1 [==============================] - 0s 36ms/step\n",
      "1/1 [==============================] - 0s 28ms/step\n",
      "1/1 [==============================] - 0s 28ms/step\n",
      "1/1 [==============================] - 0s 29ms/step\n",
      "1/1 [==============================] - 0s 27ms/step\n",
      "1/1 [==============================] - 0s 27ms/step\n",
      "1/1 [==============================] - 0s 32ms/step\n",
      "1/1 [==============================] - 0s 32ms/step\n",
      "1/1 [==============================] - 0s 32ms/step\n",
      "1/1 [==============================] - 0s 30ms/step\n",
      "1/1 [==============================] - 0s 31ms/step\n",
      "1/1 [==============================] - 0s 29ms/step\n",
      "1/1 [==============================] - 0s 30ms/step\n",
      "1/1 [==============================] - 0s 30ms/step\n",
      "1/1 [==============================] - 0s 31ms/step\n",
      "1/1 [==============================] - 0s 32ms/step\n",
      "1/1 [==============================] - 0s 37ms/step\n",
      "1/1 [==============================] - 0s 37ms/step\n",
      "1/1 [==============================] - 0s 33ms/step\n",
      "1/1 [==============================] - 0s 31ms/step\n",
      "1/1 [==============================] - 0s 30ms/step\n",
      "1/1 [==============================] - 0s 31ms/step\n",
      "1/1 [==============================] - 0s 30ms/step\n",
      "1/1 [==============================] - 0s 38ms/step\n",
      "1/1 [==============================] - 0s 30ms/step\n",
      "1/1 [==============================] - 0s 30ms/step\n",
      "1/1 [==============================] - 0s 42ms/step\n",
      "1/1 [==============================] - 0s 30ms/step\n",
      "1/1 [==============================] - 0s 27ms/step\n",
      "1/1 [==============================] - 0s 28ms/step\n",
      "1/1 [==============================] - 0s 29ms/step\n",
      "1/1 [==============================] - 0s 28ms/step\n",
      "1/1 [==============================] - 0s 28ms/step\n",
      "1/1 [==============================] - 0s 44ms/step\n",
      "1/1 [==============================] - 0s 29ms/step\n",
      "1/1 [==============================] - 0s 31ms/step\n",
      "1/1 [==============================] - 0s 28ms/step\n",
      "1/1 [==============================] - 0s 27ms/step\n",
      "1/1 [==============================] - 0s 28ms/step\n",
      "1/1 [==============================] - 0s 28ms/step\n",
      "1/1 [==============================] - 0s 39ms/step\n",
      "1/1 [==============================] - 0s 28ms/step\n",
      "1/1 [==============================] - 0s 28ms/step\n",
      "1/1 [==============================] - 0s 28ms/step\n",
      "1/1 [==============================] - 0s 27ms/step\n",
      "1/1 [==============================] - 0s 28ms/step\n",
      "1/1 [==============================] - 0s 28ms/step\n",
      "1/1 [==============================] - 0s 28ms/step\n",
      "1/1 [==============================] - 0s 27ms/step\n",
      "1/1 [==============================] - 0s 29ms/step\n",
      "1/1 [==============================] - 0s 27ms/step\n",
      "1/1 [==============================] - 0s 28ms/step\n",
      "1/1 [==============================] - 0s 27ms/step\n",
      "1/1 [==============================] - 0s 29ms/step\n",
      "1/1 [==============================] - 0s 29ms/step\n",
      "1/1 [==============================] - 0s 29ms/step\n",
      "1/1 [==============================] - 0s 27ms/step\n",
      "1/1 [==============================] - 0s 27ms/step\n",
      "1/1 [==============================] - 0s 28ms/step\n",
      "1/1 [==============================] - 0s 26ms/step\n",
      "1/1 [==============================] - 0s 28ms/step\n",
      "1/1 [==============================] - 0s 28ms/step\n",
      "1/1 [==============================] - 0s 30ms/step\n",
      "1/1 [==============================] - 0s 32ms/step\n",
      "1/1 [==============================] - 0s 37ms/step\n",
      "1/1 [==============================] - 0s 33ms/step\n",
      "1/1 [==============================] - 0s 36ms/step\n",
      "1/1 [==============================] - 0s 34ms/step\n",
      "1/1 [==============================] - 0s 31ms/step\n",
      "1/1 [==============================] - 0s 35ms/step\n",
      "1/1 [==============================] - 0s 35ms/step\n",
      "1/1 [==============================] - 0s 35ms/step\n",
      "1/1 [==============================] - 0s 40ms/step\n",
      "1/1 [==============================] - 0s 31ms/step\n",
      "1/1 [==============================] - 0s 44ms/step\n",
      "1/1 [==============================] - 0s 34ms/step\n",
      "1/1 [==============================] - 0s 31ms/step\n",
      "1/1 [==============================] - 0s 29ms/step\n",
      "1/1 [==============================] - 0s 28ms/step\n",
      "1/1 [==============================] - 0s 27ms/step\n",
      "1/1 [==============================] - 0s 29ms/step\n",
      "1/1 [==============================] - 0s 27ms/step\n",
      "1/1 [==============================] - 0s 27ms/step\n",
      "1/1 [==============================] - 0s 27ms/step\n",
      "1/1 [==============================] - 0s 29ms/step\n",
      "1/1 [==============================] - 0s 31ms/step\n",
      "1/1 [==============================] - 0s 28ms/step\n",
      "1/1 [==============================] - 0s 28ms/step\n",
      "1/1 [==============================] - 0s 27ms/step\n",
      "1/1 [==============================] - 0s 26ms/step\n",
      "1/1 [==============================] - 0s 26ms/step\n",
      "1/1 [==============================] - 0s 28ms/step\n",
      "1/1 [==============================] - 0s 28ms/step\n",
      "1/1 [==============================] - 0s 28ms/step\n",
      "1/1 [==============================] - 0s 29ms/step\n",
      "1/1 [==============================] - 0s 40ms/step\n",
      "1/1 [==============================] - 0s 29ms/step\n",
      "1/1 [==============================] - 0s 36ms/step\n",
      "1/1 [==============================] - 0s 36ms/step\n",
      "1/1 [==============================] - 0s 28ms/step\n",
      "1/1 [==============================] - 0s 28ms/step\n",
      "1/1 [==============================] - 0s 31ms/step\n",
      "1/1 [==============================] - 0s 26ms/step\n",
      "1/1 [==============================] - 0s 31ms/step\n",
      "1/1 [==============================] - 0s 31ms/step\n",
      "1/1 [==============================] - 0s 38ms/step\n",
      "1/1 [==============================] - 0s 51ms/step\n",
      "1/1 [==============================] - 0s 43ms/step\n"
     ]
    },
    {
     "name": "stdout",
     "output_type": "stream",
     "text": [
      "1/1 [==============================] - 0s 33ms/step\n",
      "1/1 [==============================] - 0s 31ms/step\n",
      "1/1 [==============================] - 0s 45ms/step\n",
      "1/1 [==============================] - 0s 37ms/step\n",
      "1/1 [==============================] - 0s 47ms/step\n",
      "1/1 [==============================] - 0s 39ms/step\n",
      "1/1 [==============================] - 0s 31ms/step\n",
      "1/1 [==============================] - 0s 29ms/step\n",
      "1/1 [==============================] - 0s 29ms/step\n",
      "1/1 [==============================] - 0s 28ms/step\n",
      "1/1 [==============================] - 0s 29ms/step\n",
      "1/1 [==============================] - 0s 29ms/step\n",
      "1/1 [==============================] - 0s 30ms/step\n",
      "1/1 [==============================] - 0s 27ms/step\n",
      "1/1 [==============================] - 0s 30ms/step\n",
      "1/1 [==============================] - 0s 27ms/step\n",
      "1/1 [==============================] - 0s 27ms/step\n",
      "1/1 [==============================] - 0s 27ms/step\n",
      "1/1 [==============================] - 0s 27ms/step\n",
      "1/1 [==============================] - 0s 27ms/step\n",
      "1/1 [==============================] - 0s 27ms/step\n",
      "1/1 [==============================] - 0s 29ms/step\n",
      "1/1 [==============================] - 0s 28ms/step\n",
      "1/1 [==============================] - 0s 31ms/step\n",
      "1/1 [==============================] - 0s 32ms/step\n",
      "1/1 [==============================] - 0s 31ms/step\n",
      "1/1 [==============================] - 0s 27ms/step\n",
      "1/1 [==============================] - 0s 29ms/step\n",
      "1/1 [==============================] - 0s 26ms/step\n",
      "1/1 [==============================] - 0s 27ms/step\n",
      "1/1 [==============================] - 0s 27ms/step\n",
      "1/1 [==============================] - 0s 29ms/step\n",
      "1/1 [==============================] - 0s 27ms/step\n",
      "1/1 [==============================] - 0s 27ms/step\n",
      "1/1 [==============================] - 0s 29ms/step\n",
      "1/1 [==============================] - 0s 31ms/step\n",
      "1/1 [==============================] - 0s 31ms/step\n",
      "1/1 [==============================] - 0s 29ms/step\n",
      "1/1 [==============================] - 0s 30ms/step\n",
      "1/1 [==============================] - 0s 28ms/step\n",
      "1/1 [==============================] - 0s 29ms/step\n",
      "1/1 [==============================] - 0s 33ms/step\n",
      "1/1 [==============================] - 0s 29ms/step\n",
      "1/1 [==============================] - 0s 27ms/step\n",
      "1/1 [==============================] - 0s 28ms/step\n",
      "1/1 [==============================] - 0s 27ms/step\n",
      "1/1 [==============================] - 0s 27ms/step\n",
      "1/1 [==============================] - 0s 29ms/step\n",
      "1/1 [==============================] - 0s 27ms/step\n",
      "1/1 [==============================] - 0s 28ms/step\n",
      "1/1 [==============================] - 0s 28ms/step\n",
      "1/1 [==============================] - 0s 28ms/step\n",
      "1/1 [==============================] - 0s 26ms/step\n",
      "1/1 [==============================] - 0s 27ms/step\n",
      "1/1 [==============================] - 0s 28ms/step\n",
      "1/1 [==============================] - 0s 28ms/step\n",
      "1/1 [==============================] - 0s 27ms/step\n",
      "1/1 [==============================] - 0s 28ms/step\n",
      "1/1 [==============================] - 0s 28ms/step\n",
      "1/1 [==============================] - 0s 28ms/step\n",
      "1/1 [==============================] - 0s 27ms/step\n",
      "1/1 [==============================] - 0s 29ms/step\n",
      "1/1 [==============================] - 0s 27ms/step\n",
      "1/1 [==============================] - 0s 27ms/step\n",
      "1/1 [==============================] - 0s 27ms/step\n",
      "1/1 [==============================] - 0s 32ms/step\n",
      "1/1 [==============================] - 0s 31ms/step\n",
      "1/1 [==============================] - 0s 27ms/step\n",
      "1/1 [==============================] - 0s 28ms/step\n",
      "1/1 [==============================] - 0s 28ms/step\n",
      "1/1 [==============================] - 0s 28ms/step\n",
      "1/1 [==============================] - 0s 27ms/step\n",
      "1/1 [==============================] - 0s 27ms/step\n",
      "1/1 [==============================] - 0s 28ms/step\n",
      "1/1 [==============================] - 0s 30ms/step\n",
      "1/1 [==============================] - 0s 31ms/step\n",
      "1/1 [==============================] - 0s 27ms/step\n",
      "1/1 [==============================] - 0s 31ms/step\n",
      "1/1 [==============================] - 0s 30ms/step\n",
      "1/1 [==============================] - 0s 27ms/step\n",
      "1/1 [==============================] - 0s 27ms/step\n",
      "1/1 [==============================] - 0s 28ms/step\n",
      "1/1 [==============================] - 0s 27ms/step\n",
      "1/1 [==============================] - 0s 31ms/step\n",
      "1/1 [==============================] - 0s 32ms/step\n",
      "1/1 [==============================] - 0s 31ms/step\n",
      "1/1 [==============================] - 0s 33ms/step\n",
      "1/1 [==============================] - 0s 29ms/step\n",
      "1/1 [==============================] - 0s 31ms/step\n",
      "1/1 [==============================] - 0s 30ms/step\n",
      "1/1 [==============================] - 0s 32ms/step\n",
      "1/1 [==============================] - 0s 30ms/step\n",
      "1/1 [==============================] - 0s 29ms/step\n",
      "1/1 [==============================] - 0s 27ms/step\n",
      "1/1 [==============================] - 0s 29ms/step\n",
      "1/1 [==============================] - 0s 28ms/step\n",
      "1/1 [==============================] - 0s 29ms/step\n",
      "1/1 [==============================] - 0s 28ms/step\n",
      "1/1 [==============================] - 0s 29ms/step\n",
      "1/1 [==============================] - 0s 28ms/step\n",
      "1/1 [==============================] - 0s 28ms/step\n",
      "1/1 [==============================] - 0s 29ms/step\n",
      "1/1 [==============================] - 0s 27ms/step\n",
      "1/1 [==============================] - 0s 29ms/step\n",
      "1/1 [==============================] - 0s 28ms/step\n",
      "1/1 [==============================] - 0s 29ms/step\n",
      "1/1 [==============================] - 0s 28ms/step\n",
      "1/1 [==============================] - 0s 27ms/step\n",
      "1/1 [==============================] - 0s 27ms/step\n",
      "1/1 [==============================] - 0s 39ms/step\n",
      "1/1 [==============================] - 0s 30ms/step\n",
      "1/1 [==============================] - 0s 28ms/step\n",
      "1/1 [==============================] - 0s 30ms/step\n",
      "1/1 [==============================] - 0s 27ms/step\n",
      "1/1 [==============================] - 0s 30ms/step\n",
      "1/1 [==============================] - 0s 29ms/step\n",
      "1/1 [==============================] - 0s 28ms/step\n",
      "1/1 [==============================] - 0s 29ms/step\n",
      "1/1 [==============================] - 0s 28ms/step\n",
      "1/1 [==============================] - 0s 29ms/step\n",
      "1/1 [==============================] - 0s 27ms/step\n",
      "1/1 [==============================] - 0s 28ms/step\n",
      "1/1 [==============================] - 0s 28ms/step\n",
      "1/1 [==============================] - 0s 28ms/step\n",
      "1/1 [==============================] - 0s 28ms/step\n",
      "1/1 [==============================] - 0s 28ms/step\n",
      "1/1 [==============================] - 0s 27ms/step\n",
      "1/1 [==============================] - 0s 35ms/step\n",
      "1/1 [==============================] - 0s 32ms/step\n",
      "1/1 [==============================] - 0s 35ms/step\n",
      "1/1 [==============================] - 0s 37ms/step\n",
      "1/1 [==============================] - 0s 31ms/step\n",
      "1/1 [==============================] - 0s 42ms/step\n",
      "1/1 [==============================] - 0s 43ms/step\n",
      "1/1 [==============================] - 0s 32ms/step\n",
      "1/1 [==============================] - 0s 30ms/step\n",
      "1/1 [==============================] - 0s 28ms/step\n",
      "1/1 [==============================] - 0s 29ms/step\n",
      "1/1 [==============================] - 0s 29ms/step\n",
      "1/1 [==============================] - 0s 30ms/step\n",
      "1/1 [==============================] - 0s 29ms/step\n",
      "1/1 [==============================] - 0s 41ms/step\n",
      "1/1 [==============================] - 0s 40ms/step\n",
      "1/1 [==============================] - 0s 28ms/step\n",
      "1/1 [==============================] - 0s 34ms/step\n",
      "1/1 [==============================] - 0s 27ms/step\n",
      "1/1 [==============================] - 0s 28ms/step\n",
      "1/1 [==============================] - 0s 27ms/step\n",
      "1/1 [==============================] - 0s 32ms/step\n"
     ]
    }
   ],
   "source": [
    "predicted_price = []\n",
    "for i in list_of_dicts:\n",
    "    #convert the value of the dictionary to tensor\n",
    "    input_dict = {name: tf.convert_to_tensor([value]) for name, value in i.items()}\n",
    "    predictions = inference_model.predict(input_dict)\n",
    "    predicted_price.append(predictions[0][0])"
   ]
  },
  {
   "cell_type": "code",
   "execution_count": 32,
   "id": "b2c44988",
   "metadata": {},
   "outputs": [
    {
     "name": "stdout",
     "output_type": "stream",
     "text": [
      "The resulting RMSE for the test dataset is:  69515.71667369918\n"
     ]
    }
   ],
   "source": [
    "from sklearn.metrics import mean_squared_error\n",
    "\n",
    "#appending the quantity and predicted quantity to the dataframe\n",
    "df_test['price'] = test_price\n",
    "df_test['predicted_price'] = predicted_price\n",
    "rmse = np.sqrt(mean_squared_error(df_test['price'], df_test['predicted_price']))\n",
    "\n",
    "print('The resulting RMSE for the test dataset is: ', rmse)"
   ]
  }
 ],
 "metadata": {
  "kernelspec": {
   "display_name": "ML Projects Env",
   "language": "python",
   "name": "mlprojects_env"
  },
  "language_info": {
   "codemirror_mode": {
    "name": "ipython",
    "version": 3
   },
   "file_extension": ".py",
   "mimetype": "text/x-python",
   "name": "python",
   "nbconvert_exporter": "python",
   "pygments_lexer": "ipython3",
   "version": "3.11.4"
  }
 },
 "nbformat": 4,
 "nbformat_minor": 5
}
