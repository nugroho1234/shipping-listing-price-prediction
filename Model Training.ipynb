{
 "cells": [
  {
   "cell_type": "code",
   "execution_count": 1,
   "id": "e77ae150",
   "metadata": {},
   "outputs": [],
   "source": [
    "#standard libraries\n",
    "import pandas as pd\n",
    "import numpy as np\n",
    "import re\n",
    "import pickle\n",
    "\n",
    "#sklearn\n",
    "from sklearn.feature_extraction.text import TfidfVectorizer\n",
    "from sklearn.neighbors import NearestNeighbors\n",
    "\n",
    "#nltk\n",
    "import nltk\n",
    "from nltk.corpus import stopwords\n",
    "from collections import Counter\n",
    "from langdetect import detect\n",
    "\n",
    "#preprocessing and feature extraction\n",
    "import helper\n",
    "\n",
    "#tensorflow\n",
    "import tensorflow as tf\n",
    "import tensorflow.keras as keras\n",
    "\n",
    "from tensorflow.keras.utils import FeatureSpace\n",
    "\n",
    "from tensorflow import feature_column as fc\n",
    "from tensorflow.keras import layers\n",
    "from sklearn.model_selection import train_test_split\n",
    "\n",
    "import random\n",
    "random.seed(42)"
   ]
  },
  {
   "cell_type": "code",
   "execution_count": 2,
   "id": "ce41f7d9",
   "metadata": {},
   "outputs": [],
   "source": [
    "df = pd.read_csv('data/online_ship_listing_data.csv')"
   ]
  },
  {
   "cell_type": "code",
   "execution_count": 3,
   "id": "5a492ca9",
   "metadata": {},
   "outputs": [],
   "source": [
    "#df = helper.preprocess_df(df)"
   ]
  },
  {
   "cell_type": "code",
   "execution_count": 4,
   "id": "0b2e725d",
   "metadata": {},
   "outputs": [],
   "source": [
    "#df_test = df.copy()"
   ]
  },
  {
   "cell_type": "code",
   "execution_count": 5,
   "id": "32e8e36b",
   "metadata": {},
   "outputs": [],
   "source": [
    "#df_test = helper.create_features(df_test)"
   ]
  },
  {
   "cell_type": "code",
   "execution_count": 6,
   "id": "647866d2",
   "metadata": {},
   "outputs": [
    {
     "name": "stdout",
     "output_type": "stream",
     "text": [
      "1184 train examples\n",
      "296 validation examples\n",
      "370 test examples\n"
     ]
    }
   ],
   "source": [
    "#splitting the dataframe\n",
    "train, test = train_test_split(df, test_size=0.2)\n",
    "train, val = train_test_split(train, test_size=0.2)\n",
    "\n",
    "print(len(train), 'train examples')\n",
    "print(len(val), 'validation examples')\n",
    "print(len(test), 'test examples')"
   ]
  },
  {
   "cell_type": "code",
   "execution_count": 7,
   "id": "da907b88",
   "metadata": {},
   "outputs": [
    {
     "name": "stdout",
     "output_type": "stream",
     "text": [
      "<class 'pandas.core.frame.DataFrame'>\n",
      "Index: 1184 entries, 1750 to 667\n",
      "Data columns (total 16 columns):\n",
      " #   Column         Non-Null Count  Dtype  \n",
      "---  ------         --------------  -----  \n",
      " 0   Unnamed: 0     1184 non-null   int64  \n",
      " 1   name           1184 non-null   object \n",
      " 2   price          1184 non-null   float64\n",
      " 3   location       1184 non-null   object \n",
      " 4   offerer        1184 non-null   object \n",
      " 5   id             1184 non-null   int64  \n",
      " 6   description    1184 non-null   object \n",
      " 7   year           1184 non-null   int64  \n",
      " 8   manufacturer   1184 non-null   object \n",
      " 9   model          1179 non-null   object \n",
      " 10  category       1184 non-null   object \n",
      " 11  length         1184 non-null   float64\n",
      " 12  fuel_type      1097 non-null   object \n",
      " 13  hull_material  1184 non-null   object \n",
      " 14  hull_shape     258 non-null    object \n",
      " 15  country        1184 non-null   object \n",
      "dtypes: float64(2), int64(3), object(11)\n",
      "memory usage: 157.2+ KB\n"
     ]
    }
   ],
   "source": [
    "train.info()"
   ]
  },
  {
   "cell_type": "code",
   "execution_count": 8,
   "id": "d5342dd5",
   "metadata": {},
   "outputs": [],
   "source": [
    "def df_to_dataset(df, shuffle=True, batch_size=32):\n",
    "    df = df.copy()\n",
    "    \n",
    "    df = helper.preprocess_df(df)\n",
    "    df, one_hot_cols = helper.create_features(df)\n",
    "    labels = df.pop('price')\n",
    "    ds = tf.data.Dataset.from_tensor_slices((dict(df), labels))\n",
    "    if shuffle:\n",
    "        ds = ds.shuffle(buffer_size=len(df))\n",
    "    ds = ds.batch(batch_size)\n",
    "    return ds, one_hot_cols"
   ]
  },
  {
   "cell_type": "code",
   "execution_count": 9,
   "id": "fb750bcf",
   "metadata": {},
   "outputs": [
    {
     "name": "stderr",
     "output_type": "stream",
     "text": [
      "C:\\Online Course\\Projects\\shipping-listing-price-prediction\\helper.py:75: SettingWithCopyWarning: \n",
      "A value is trying to be set on a copy of a slice from a DataFrame\n",
      "\n",
      "See the caveats in the documentation: https://pandas.pydata.org/pandas-docs/stable/user_guide/indexing.html#returning-a-view-versus-a-copy\n",
      "  df.drop(['word_count'], axis=1, inplace=True)\n",
      "C:\\Online Course\\Projects\\shipping-listing-price-prediction\\helper.py:77: SettingWithCopyWarning: \n",
      "A value is trying to be set on a copy of a slice from a DataFrame.\n",
      "Try using .loc[row_indexer,col_indexer] = value instead\n",
      "\n",
      "See the caveats in the documentation: https://pandas.pydata.org/pandas-docs/stable/user_guide/indexing.html#returning-a-view-versus-a-copy\n",
      "  df['description_language'] = df['description'].apply(lambda x:detect(x))\n",
      "C:\\Online Course\\Projects\\shipping-listing-price-prediction\\helper.py:75: SettingWithCopyWarning: \n",
      "A value is trying to be set on a copy of a slice from a DataFrame\n",
      "\n",
      "See the caveats in the documentation: https://pandas.pydata.org/pandas-docs/stable/user_guide/indexing.html#returning-a-view-versus-a-copy\n",
      "  df.drop(['word_count'], axis=1, inplace=True)\n",
      "C:\\Online Course\\Projects\\shipping-listing-price-prediction\\helper.py:77: SettingWithCopyWarning: \n",
      "A value is trying to be set on a copy of a slice from a DataFrame.\n",
      "Try using .loc[row_indexer,col_indexer] = value instead\n",
      "\n",
      "See the caveats in the documentation: https://pandas.pydata.org/pandas-docs/stable/user_guide/indexing.html#returning-a-view-versus-a-copy\n",
      "  df['description_language'] = df['description'].apply(lambda x:detect(x))\n"
     ]
    }
   ],
   "source": [
    "#convert dataframe to dataset\n",
    "batch_size = 32\n",
    "train_ds = df_to_dataset(train)\n",
    "val_ds = df_to_dataset(val, shuffle=False, batch_size=batch_size)"
   ]
  },
  {
   "cell_type": "code",
   "execution_count": null,
   "id": "216bb3d5",
   "metadata": {},
   "outputs": [],
   "source": [
    "for feature_batch, label_batch in train_ds.take(1):\n",
    "    print('Every feature:', list(feature_batch.keys()))\n",
    "    print('A batch of item_name:', feature_batch['ITEM_NAME'])\n",
    "    print('A batch of quantity:', feature_batch['PRICE'])\n",
    "    print('A batch of holiday:', feature_batch['HOLIDAY'])\n",
    "    print('A batch of is_schoolbreak:', feature_batch['IS_SCHOOLBREAK'])\n",
    "    print('A batch of month:', feature_batch['MONTH'])\n",
    "    print('A batch of day:', feature_batch['DAY'])\n",
    "    print('A batch of targets:', label_batch)"
   ]
  }
 ],
 "metadata": {
  "kernelspec": {
   "display_name": "ML Projects Env",
   "language": "python",
   "name": "mlprojects_env"
  },
  "language_info": {
   "codemirror_mode": {
    "name": "ipython",
    "version": 3
   },
   "file_extension": ".py",
   "mimetype": "text/x-python",
   "name": "python",
   "nbconvert_exporter": "python",
   "pygments_lexer": "ipython3",
   "version": "3.11.4"
  }
 },
 "nbformat": 4,
 "nbformat_minor": 5
}
