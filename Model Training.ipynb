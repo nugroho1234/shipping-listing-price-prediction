{
 "cells": [
  {
   "cell_type": "code",
   "execution_count": 1,
   "id": "00e417cf",
   "metadata": {},
   "outputs": [],
   "source": [
    "#standard libraries\n",
    "import pandas as pd\n",
    "import numpy as np\n",
    "import re\n",
    "import pickle\n",
    "from unidecode import unidecode\n",
    "import matplotlib.pyplot as plt\n",
    "\n",
    "#sklearn\n",
    "from sklearn.feature_extraction.text import TfidfVectorizer\n",
    "from sklearn.neighbors import NearestNeighbors\n",
    "\n",
    "#nltk\n",
    "import nltk\n",
    "from nltk.corpus import stopwords\n",
    "from collections import Counter\n",
    "from langdetect import detect\n",
    "\n",
    "#preprocessing and feature extraction\n",
    "import helper\n",
    "\n",
    "#tensorflow\n",
    "import tensorflow as tf\n",
    "import tensorflow.keras as keras\n",
    "\n",
    "from tensorflow.keras.utils import FeatureSpace\n",
    "\n",
    "from tensorflow import feature_column as fc\n",
    "from tensorflow.keras import layers\n",
    "from sklearn.model_selection import train_test_split\n",
    "\n",
    "import random\n",
    "random.seed(42)"
   ]
  },
  {
   "cell_type": "code",
   "execution_count": 2,
   "id": "ae46955a",
   "metadata": {},
   "outputs": [],
   "source": [
    "df = pd.read_csv('data/online_ship_listing_data.csv')"
   ]
  },
  {
   "cell_type": "code",
   "execution_count": 3,
   "id": "9495623d",
   "metadata": {},
   "outputs": [],
   "source": [
    "#df = helper.preprocess_df(df)"
   ]
  },
  {
   "cell_type": "code",
   "execution_count": 4,
   "id": "f228bc6b",
   "metadata": {},
   "outputs": [],
   "source": [
    "#df_test = df.copy()"
   ]
  },
  {
   "cell_type": "code",
   "execution_count": 5,
   "id": "3a91bcb5",
   "metadata": {},
   "outputs": [],
   "source": [
    "#df_test = helper.create_features(df_test)"
   ]
  },
  {
   "cell_type": "code",
   "execution_count": 6,
   "id": "ca450e58",
   "metadata": {},
   "outputs": [
    {
     "name": "stdout",
     "output_type": "stream",
     "text": [
      "1184 train examples\n",
      "296 validation examples\n",
      "370 test examples\n"
     ]
    }
   ],
   "source": [
    "#splitting the dataframe\n",
    "train, test = train_test_split(df, test_size=0.2)\n",
    "train, val = train_test_split(train, test_size=0.2)\n",
    "\n",
    "print(len(train), 'train examples')\n",
    "print(len(val), 'validation examples')\n",
    "print(len(test), 'test examples')"
   ]
  },
  {
   "cell_type": "code",
   "execution_count": 7,
   "id": "65d16470",
   "metadata": {},
   "outputs": [
    {
     "data": {
      "text/plain": [
       "(1184, 16)"
      ]
     },
     "execution_count": 7,
     "metadata": {},
     "output_type": "execute_result"
    }
   ],
   "source": [
    "train.shape"
   ]
  },
  {
   "cell_type": "code",
   "execution_count": 8,
   "id": "72b6efde",
   "metadata": {},
   "outputs": [
    {
     "data": {
      "text/plain": [
       "(296, 16)"
      ]
     },
     "execution_count": 8,
     "metadata": {},
     "output_type": "execute_result"
    }
   ],
   "source": [
    "val.shape"
   ]
  },
  {
   "cell_type": "code",
   "execution_count": 9,
   "id": "d4acab57",
   "metadata": {},
   "outputs": [
    {
     "name": "stdout",
     "output_type": "stream",
     "text": [
      "<class 'pandas.core.frame.DataFrame'>\n",
      "Index: 1184 entries, 402 to 1772\n",
      "Data columns (total 16 columns):\n",
      " #   Column         Non-Null Count  Dtype  \n",
      "---  ------         --------------  -----  \n",
      " 0   Unnamed: 0     1184 non-null   int64  \n",
      " 1   name           1184 non-null   object \n",
      " 2   price          1184 non-null   float64\n",
      " 3   location       1184 non-null   object \n",
      " 4   offerer        1184 non-null   object \n",
      " 5   id             1184 non-null   int64  \n",
      " 6   description    1184 non-null   object \n",
      " 7   year           1184 non-null   int64  \n",
      " 8   manufacturer   1184 non-null   object \n",
      " 9   model          1180 non-null   object \n",
      " 10  category       1184 non-null   object \n",
      " 11  length         1184 non-null   float64\n",
      " 12  fuel_type      1119 non-null   object \n",
      " 13  hull_material  1184 non-null   object \n",
      " 14  hull_shape     260 non-null    object \n",
      " 15  country        1184 non-null   object \n",
      "dtypes: float64(2), int64(3), object(11)\n",
      "memory usage: 157.2+ KB\n"
     ]
    }
   ],
   "source": [
    "train.info()"
   ]
  },
  {
   "cell_type": "code",
   "execution_count": 10,
   "id": "3bac7ce0",
   "metadata": {},
   "outputs": [],
   "source": [
    "def df_to_dataset(df, shuffle=True, batch_size=32):\n",
    "    df = df.copy()\n",
    "    \n",
    "    df = helper.preprocess_df(df)\n",
    "    df, all_cols = helper.create_features(df)\n",
    "    labels = df.pop('price')\n",
    "    ds = tf.data.Dataset.from_tensor_slices((dict(df), labels))\n",
    "    if shuffle:\n",
    "        ds = ds.shuffle(buffer_size=len(df))\n",
    "    ds = ds.batch(batch_size)\n",
    "    return ds, all_cols"
   ]
  },
  {
   "cell_type": "code",
   "execution_count": 11,
   "id": "0b72c561",
   "metadata": {},
   "outputs": [
    {
     "name": "stderr",
     "output_type": "stream",
     "text": [
      "C:\\Online Course\\Projects\\shipping-listing-price-prediction\\helper.py:76: SettingWithCopyWarning: \n",
      "A value is trying to be set on a copy of a slice from a DataFrame\n",
      "\n",
      "See the caveats in the documentation: https://pandas.pydata.org/pandas-docs/stable/user_guide/indexing.html#returning-a-view-versus-a-copy\n",
      "  df.drop(['word_count'], axis=1, inplace=True)\n",
      "C:\\Online Course\\Projects\\shipping-listing-price-prediction\\helper.py:78: SettingWithCopyWarning: \n",
      "A value is trying to be set on a copy of a slice from a DataFrame.\n",
      "Try using .loc[row_indexer,col_indexer] = value instead\n",
      "\n",
      "See the caveats in the documentation: https://pandas.pydata.org/pandas-docs/stable/user_guide/indexing.html#returning-a-view-versus-a-copy\n",
      "  df['description_language'] = df['description'].apply(lambda x:detect(x))\n",
      "C:\\Online Course\\Projects\\shipping-listing-price-prediction\\helper.py:76: SettingWithCopyWarning: \n",
      "A value is trying to be set on a copy of a slice from a DataFrame\n",
      "\n",
      "See the caveats in the documentation: https://pandas.pydata.org/pandas-docs/stable/user_guide/indexing.html#returning-a-view-versus-a-copy\n",
      "  df.drop(['word_count'], axis=1, inplace=True)\n",
      "C:\\Online Course\\Projects\\shipping-listing-price-prediction\\helper.py:78: SettingWithCopyWarning: \n",
      "A value is trying to be set on a copy of a slice from a DataFrame.\n",
      "Try using .loc[row_indexer,col_indexer] = value instead\n",
      "\n",
      "See the caveats in the documentation: https://pandas.pydata.org/pandas-docs/stable/user_guide/indexing.html#returning-a-view-versus-a-copy\n",
      "  df['description_language'] = df['description'].apply(lambda x:detect(x))\n"
     ]
    }
   ],
   "source": [
    "#convert dataframe to dataset\n",
    "batch_size = 32\n",
    "train_ds, all_cols = df_to_dataset(train)\n",
    "val_ds, _ = df_to_dataset(val, shuffle=False, batch_size=batch_size)"
   ]
  },
  {
   "cell_type": "code",
   "execution_count": 12,
   "id": "30b06dac",
   "metadata": {},
   "outputs": [
    {
     "name": "stdout",
     "output_type": "stream",
     "text": [
      "Every feature: ['year', 'model', 'category', 'length', 'fuel_type', 'hull_material', 'country', 'noun_counts', 'verb_counts', 'adjective_counts', 'bilge_pump', 'deck_finish', 'fuel_tank', 'level_indicator', 'material_grp', 'mehr_anzeigen', 'sailing_yacht', 'stainless_steel', 'tank_litre', 'teak_cockpit', 'avg_price_by_hull_material', 'avg_price_by_fuel_type', 'avg_price_by_category']\n",
      "A batch of fuel tank: tf.Tensor(\n",
      "[b'diesel' b'diesel' b'diesel' b'diesel' b'diesel' b'diesel' b'petrol'\n",
      " b'diesel' b'diesel' b'diesel' b'diesel' b'petrol' b'other' b'diesel'\n",
      " b'diesel' b'diesel' b'diesel' b'diesel' b'diesel' b'diesel' b'diesel'\n",
      " b'diesel' b'diesel' b'diesel' b'diesel' b'diesel' b'diesel' b'diesel'\n",
      " b'petrol' b'diesel' b'diesel' b'diesel'], shape=(32,), dtype=string)\n",
      "A batch of country: tf.Tensor(\n",
      "[b'netherlands' b'afghanistan' b'afghanistan' b'germany' b'italy'\n",
      " b'grenada' b'afghanistan' b'spain' b'netherlands' b'spain' b'turkey'\n",
      " b'germany' b'italy' b'afghanistan' b'spain' b'italy' b'germany'\n",
      " b'afghanistan' b'france' b'afghanistan' b'spain' b'afghanistan'\n",
      " b'afghanistan' b'afghanistan' b'netherlands' b'netherlands' b'croatia'\n",
      " b'croatia' b'afghanistan' b'afghanistan' b'belgium' b'afghanistan'], shape=(32,), dtype=string)\n",
      "A batch of year: tf.Tensor(\n",
      "[1977. 1976. 1979. 1983. 2007. 1996. 1975. 1984. 2007. 2007. 2004. 1997.\n",
      " 1995. 1954. 2006. 1990. 1983. 1987. 1986. 2017. 2006. 1986. 2005. 1985.\n",
      " 2016. 1993. 2017. 2005. 2020. 1989. 2000. 2007.], shape=(32,), dtype=float64)\n",
      "A batch of targets: tf.Tensor(\n",
      "[  6000.     44900.     75000.      9900.    450000.     70384.\n",
      "   5500.    440000.     98500.    199000.    561749.375  95000.\n",
      "  52000.    185000.    215000.    108000.     23900.     69900.\n",
      "  25000.    561749.375 179000.    150000.    159000.    561749.375\n",
      "  57500.    495000.    137000.    239000.     44650.    105000.\n",
      "  99500.    120000.   ], shape=(32,), dtype=float64)\n"
     ]
    }
   ],
   "source": [
    "#sanity checking\n",
    "for feature_batch, label_batch in train_ds.take(1):\n",
    "    print('Every feature:', list(feature_batch.keys()))\n",
    "    print('A batch of fuel tank:', feature_batch['fuel_type'])\n",
    "    print('A batch of country:', feature_batch['country'])\n",
    "    print('A batch of year:', feature_batch['year'])\n",
    "    print('A batch of targets:', label_batch)"
   ]
  },
  {
   "cell_type": "code",
   "execution_count": 13,
   "id": "0dc3ab4d",
   "metadata": {},
   "outputs": [],
   "source": [
    "fileName = 'model/column_names.pkl'\n",
    "with open(fileName,'wb') as f:\n",
    "    pickle.dump(all_cols,f)"
   ]
  },
  {
   "cell_type": "code",
   "execution_count": 14,
   "id": "4cfaee48",
   "metadata": {},
   "outputs": [],
   "source": [
    "float_normalized_cols = ['length', 'noun_counts', 'verb_counts', 'adjective_counts', 'avg_price_by_hull_material',\n",
    "                        'avg_price_by_fuel_type', 'avg_price_by_category']\n",
    "float_cols = ['bilge_pump', 'deck_finish', 'fuel_tank', 'level_indicator', 'material_grp', 'mehr_anzeigen',\n",
    "             'sailing_yacht', 'stainless_steel', 'tank_litre', 'teak_cockpit']\n",
    "string_categorical_cols = ['model', 'category', 'hull_material', 'country', 'fuel_type']\n",
    "float_discretized_cols = ['year']\n",
    "\n",
    "float_normalized = 'float_normalized'\n",
    "just_float = 'float'\n",
    "string_categorical = 'string_categorical'\n",
    "float_discretized = 'float_discretized'"
   ]
  },
  {
   "cell_type": "code",
   "execution_count": 15,
   "id": "b652f142",
   "metadata": {},
   "outputs": [],
   "source": [
    "all_keys = sorted(float_normalized_cols + float_cols + string_categorical_cols)\n",
    "features_dict = {key: float_normalized if key in float_normalized_cols else (just_float if key in float_cols else string_categorical) for key in all_keys}"
   ]
  },
  {
   "cell_type": "code",
   "execution_count": 16,
   "id": "41ace377",
   "metadata": {},
   "outputs": [],
   "source": [
    "features_dict['year'] = FeatureSpace.float_discretized(num_bins=10)"
   ]
  },
  {
   "cell_type": "code",
   "execution_count": 17,
   "id": "6ff9cc9f",
   "metadata": {},
   "outputs": [
    {
     "data": {
      "text/plain": [
       "{'adjective_counts': 'float_normalized',\n",
       " 'avg_price_by_category': 'float_normalized',\n",
       " 'avg_price_by_fuel_type': 'float_normalized',\n",
       " 'avg_price_by_hull_material': 'float_normalized',\n",
       " 'bilge_pump': 'float',\n",
       " 'category': 'string_categorical',\n",
       " 'country': 'string_categorical',\n",
       " 'deck_finish': 'float',\n",
       " 'fuel_tank': 'float',\n",
       " 'fuel_type': 'string_categorical',\n",
       " 'hull_material': 'string_categorical',\n",
       " 'length': 'float_normalized',\n",
       " 'level_indicator': 'float',\n",
       " 'material_grp': 'float',\n",
       " 'mehr_anzeigen': 'float',\n",
       " 'model': 'string_categorical',\n",
       " 'noun_counts': 'float_normalized',\n",
       " 'sailing_yacht': 'float',\n",
       " 'stainless_steel': 'float',\n",
       " 'tank_litre': 'float',\n",
       " 'teak_cockpit': 'float',\n",
       " 'verb_counts': 'float_normalized',\n",
       " 'year': <keras.src.utils.feature_space.Feature at 0x223cfe21890>}"
      ]
     },
     "execution_count": 17,
     "metadata": {},
     "output_type": "execute_result"
    }
   ],
   "source": [
    "features_dict"
   ]
  },
  {
   "cell_type": "code",
   "execution_count": 18,
   "id": "e32da840",
   "metadata": {},
   "outputs": [],
   "source": [
    "feature_space = FeatureSpace(\n",
    "    features={\n",
    "    \"adjective_counts\": 'float_normalized',\n",
    "    \"avg_price_by_category\": 'float_normalized',\n",
    "    \"avg_price_by_fuel_type\": 'float_normalized',\n",
    "    \"avg_price_by_hull_material\": 'float_normalized',\n",
    "    \"bilge_pump\": 'float',\n",
    "    \"category\": 'string_categorical',\n",
    "    \"country\": 'string_categorical',\n",
    "    \"deck_finish\": 'float',\n",
    "    \"fuel_tank\": 'float',\n",
    "    \"fuel_type\": 'string_categorical',\n",
    "    \"hull_material\": 'string_categorical',\n",
    "    \"length\": 'float_normalized',\n",
    "    \"level_indicator\": 'float',\n",
    "    \"material_grp\": 'float',\n",
    "    \"mehr_anzeigen\": 'float',\n",
    "    \"model\": 'string_categorical',\n",
    "    \"noun_counts\": 'float_normalized',\n",
    "    \"sailing_yacht\": 'float',\n",
    "    \"stainless_steel\": 'float',\n",
    "    \"tank_litre\": 'float',\n",
    "    \"teak_cockpit\": 'float',\n",
    "    \"verb_counts\": 'float_normalized',\n",
    "    \"year\": FeatureSpace.float_discretized(num_bins=10)\n",
    "    },\n",
    "    output_mode=\"concat\",\n",
    "    crosses=[\n",
    "        FeatureSpace.cross(feature_names=(\"model\", \"category\"), crossing_dim=64),\n",
    "        FeatureSpace.cross(feature_names=(\"hull_material\", \"category\"), crossing_dim=16),\n",
    "        FeatureSpace.cross(feature_names=(\"fuel_type\", \"category\"), crossing_dim=16),\n",
    "        \n",
    "    ],\n",
    ")\n",
    "\n",
    "#needs to adapt the feature_space. Reminder: feature_space needs to be adapted to a dataset WITHOUT LABEL\n",
    "train_ds_with_no_labels = train_ds.map(lambda x, _: x)\n",
    "feature_space.adapt(train_ds_with_no_labels)"
   ]
  },
  {
   "cell_type": "code",
   "execution_count": 36,
   "id": "2c9c0f87",
   "metadata": {},
   "outputs": [],
   "source": [
    "feature_space.save('model/feature_space.keras')"
   ]
  },
  {
   "cell_type": "code",
   "execution_count": 19,
   "id": "2a7e1f44",
   "metadata": {},
   "outputs": [
    {
     "name": "stdout",
     "output_type": "stream",
     "text": [
      "preprocessed_x.shape: (32, 964)\n",
      "preprocessed_x.dtype: <dtype: 'float32'>\n"
     ]
    }
   ],
   "source": [
    "#checking the dataset shape\n",
    "for x, _ in train_ds.take(1):\n",
    "    preprocessed_x = feature_space(x)\n",
    "    print(\"preprocessed_x.shape:\", preprocessed_x.shape)\n",
    "    print(\"preprocessed_x.dtype:\", preprocessed_x.dtype)"
   ]
  },
  {
   "cell_type": "code",
   "execution_count": 20,
   "id": "5b7ca2d6",
   "metadata": {},
   "outputs": [],
   "source": [
    "def rmse(y_true, y_pred):  # Root mean square error\n",
    "    return tf.sqrt(tf.reduce_mean(tf.square(y_pred - y_true)))"
   ]
  },
  {
   "cell_type": "code",
   "execution_count": 21,
   "id": "a6c0804d",
   "metadata": {},
   "outputs": [],
   "source": [
    "#remapping to label\n",
    "preprocessed_train_ds = train_ds.map(\n",
    "    lambda x, y: (feature_space(x), y), num_parallel_calls=tf.data.AUTOTUNE\n",
    ")\n",
    "preprocessed_train_ds = preprocessed_train_ds.prefetch(tf.data.AUTOTUNE)\n",
    "\n",
    "#To make sure the training data is read infinitely\n",
    "preprocessed_train_ds = preprocessed_train_ds.repeat()\n",
    "\n",
    "preprocessed_val_ds = val_ds.map(\n",
    "    lambda x, y: (feature_space(x), y), num_parallel_calls=tf.data.AUTOTUNE\n",
    ")\n",
    "preprocessed_val_ds = preprocessed_val_ds.prefetch(tf.data.AUTOTUNE)"
   ]
  },
  {
   "cell_type": "code",
   "execution_count": 22,
   "id": "fc40377b",
   "metadata": {},
   "outputs": [],
   "source": [
    "dict_inputs = feature_space.get_inputs()\n",
    "encoded_features = feature_space.get_encoded_features()\n",
    "x = keras.layers.Dense(32, activation=\"relu\")(encoded_features)\n",
    "x = keras.layers.Dropout(0.5)(x) #using dropout layer to avoid overfitting\n",
    "x = keras.layers.Dense(64, activation=\"relu\")(x)\n",
    "x = keras.layers.Dropout(0.5)(x)\n",
    "x = keras.layers.Dense(128, activation=\"relu\")(x)\n",
    "x = keras.layers.Dropout(0.5)(x)\n",
    "x = keras.layers.Dense(256, activation=\"relu\")(x)\n",
    "x = keras.layers.Dropout(0.5)(x)\n",
    "x = keras.layers.Dense(512, activation=\"relu\")(x)\n",
    "x = keras.layers.Dropout(0.5)(x)\n",
    "predictions = keras.layers.Dense(1, activation=\"linear\")(x)\n",
    "\n",
    "#1st model: training_model\n",
    "training_model = keras.Model(inputs=encoded_features, outputs=predictions)\n",
    "training_model.compile(\n",
    "    optimizer=\"adam\", loss=\"mse\", metrics=[rmse, \"mse\"]\n",
    ")\n",
    "\n",
    "#2nd model: inference_model\n",
    "inference_model = keras.Model(inputs=dict_inputs, outputs=predictions)"
   ]
  },
  {
   "cell_type": "code",
   "execution_count": 23,
   "id": "e35885df",
   "metadata": {},
   "outputs": [],
   "source": [
    "TRAIN_BATCH_SIZE = 32 \n",
    "NUM_TRAIN_EXAMPLES = 59621 * 5\n",
    "NUM_EVALS = 500\n",
    "NUM_EVAL_EXAMPLES = 14906\n",
    "\n",
    "steps_per_epoch = NUM_TRAIN_EXAMPLES // (TRAIN_BATCH_SIZE * NUM_EVALS)\n",
    "#early stopping to avoid overfitting\n",
    "early_stopping = tf.keras.callbacks.EarlyStopping(patience=20, restore_best_weights=True)"
   ]
  },
  {
   "cell_type": "code",
   "execution_count": 24,
   "id": "26421907",
   "metadata": {},
   "outputs": [
    {
     "name": "stdout",
     "output_type": "stream",
     "text": [
      "Epoch 1/500\n",
      "18/18 [==============================] - 2s 28ms/step - loss: 55007002624.0000 - rmse: 232788.0938 - mse: 55007002624.0000 - val_loss: 51591831552.0000 - val_rmse: 222506.6875 - val_mse: 51591831552.0000\n",
      "Epoch 2/500\n",
      "18/18 [==============================] - 0s 19ms/step - loss: 62922035200.0000 - rmse: 248751.6719 - mse: 62922035200.0000 - val_loss: 51493920768.0000 - val_rmse: 222292.9219 - val_mse: 51493920768.0000\n",
      "Epoch 3/500\n",
      "18/18 [==============================] - 0s 18ms/step - loss: 53347373056.0000 - rmse: 228950.0156 - mse: 53347373056.0000 - val_loss: 49694117888.0000 - val_rmse: 218326.8281 - val_mse: 49694117888.0000\n",
      "Epoch 4/500\n",
      "18/18 [==============================] - 0s 17ms/step - loss: 49945231360.0000 - rmse: 220705.3281 - mse: 49945231360.0000 - val_loss: 34680115200.0000 - val_rmse: 182181.2812 - val_mse: 34680115200.0000\n",
      "Epoch 5/500\n",
      "18/18 [==============================] - 0s 18ms/step - loss: 29813178368.0000 - rmse: 170674.9844 - mse: 29813178368.0000 - val_loss: 20533442560.0000 - val_rmse: 142412.7188 - val_mse: 20533442560.0000\n",
      "Epoch 6/500\n",
      "18/18 [==============================] - 0s 16ms/step - loss: 22964895744.0000 - rmse: 149772.8125 - mse: 22964895744.0000 - val_loss: 16969272320.0000 - val_rmse: 128720.0625 - val_mse: 16969272320.0000\n",
      "Epoch 7/500\n",
      "18/18 [==============================] - 0s 15ms/step - loss: 21032900608.0000 - rmse: 143657.2188 - mse: 21032900608.0000 - val_loss: 13936824320.0000 - val_rmse: 117085.1641 - val_mse: 13936824320.0000\n",
      "Epoch 8/500\n",
      "18/18 [==============================] - 0s 15ms/step - loss: 18123311104.0000 - rmse: 132944.3281 - mse: 18123311104.0000 - val_loss: 12432868352.0000 - val_rmse: 110498.8906 - val_mse: 12432868352.0000\n",
      "Epoch 9/500\n",
      "18/18 [==============================] - 0s 14ms/step - loss: 15454545920.0000 - rmse: 122579.4688 - mse: 15454545920.0000 - val_loss: 9858324480.0000 - val_rmse: 99062.7656 - val_mse: 9858324480.0000\n",
      "Epoch 10/500\n",
      "18/18 [==============================] - 0s 16ms/step - loss: 13002437632.0000 - rmse: 112272.7812 - mse: 13002437632.0000 - val_loss: 8813282304.0000 - val_rmse: 93476.5156 - val_mse: 8813282304.0000\n",
      "Epoch 11/500\n",
      "18/18 [==============================] - 0s 15ms/step - loss: 13012034560.0000 - rmse: 111249.2812 - mse: 13012034560.0000 - val_loss: 7901535744.0000 - val_rmse: 88470.1797 - val_mse: 7901535744.0000\n",
      "Epoch 12/500\n",
      "18/18 [==============================] - 0s 15ms/step - loss: 10605488128.0000 - rmse: 100863.3750 - mse: 10605488128.0000 - val_loss: 6957493760.0000 - val_rmse: 83046.0078 - val_mse: 6957493760.0000\n",
      "Epoch 13/500\n",
      "18/18 [==============================] - 0s 15ms/step - loss: 9293515776.0000 - rmse: 94052.2422 - mse: 9293515776.0000 - val_loss: 6018203648.0000 - val_rmse: 77328.7344 - val_mse: 6018203648.0000\n",
      "Epoch 14/500\n",
      "18/18 [==============================] - 0s 19ms/step - loss: 9517408256.0000 - rmse: 95389.2344 - mse: 9517408256.0000 - val_loss: 5626693120.0000 - val_rmse: 74598.9531 - val_mse: 5626693120.0000\n",
      "Epoch 15/500\n",
      "18/18 [==============================] - 0s 17ms/step - loss: 9231612928.0000 - rmse: 94753.4453 - mse: 9231612928.0000 - val_loss: 5681610752.0000 - val_rmse: 74662.7031 - val_mse: 5681610752.0000\n",
      "Epoch 16/500\n",
      "18/18 [==============================] - 0s 16ms/step - loss: 7866814464.0000 - rmse: 87751.5547 - mse: 7866814464.0000 - val_loss: 4922357760.0000 - val_rmse: 69551.9844 - val_mse: 4922357760.0000\n",
      "Epoch 17/500\n",
      "18/18 [==============================] - 0s 21ms/step - loss: 9177591808.0000 - rmse: 92682.1328 - mse: 9177591808.0000 - val_loss: 5966272512.0000 - val_rmse: 75868.3906 - val_mse: 5966272512.0000\n",
      "Epoch 18/500\n",
      "18/18 [==============================] - 0s 26ms/step - loss: 8399896064.0000 - rmse: 88181.5000 - mse: 8399896064.0000 - val_loss: 4845292544.0000 - val_rmse: 68523.2266 - val_mse: 4845292544.0000\n",
      "Epoch 19/500\n",
      "18/18 [==============================] - 0s 23ms/step - loss: 8228698112.0000 - rmse: 89199.6953 - mse: 8228698112.0000 - val_loss: 5102372864.0000 - val_rmse: 70115.4297 - val_mse: 5102372864.0000\n",
      "Epoch 20/500\n",
      "18/18 [==============================] - 0s 23ms/step - loss: 8485155328.0000 - rmse: 88985.5312 - mse: 8485155328.0000 - val_loss: 4712076800.0000 - val_rmse: 67479.3906 - val_mse: 4712076800.0000\n",
      "Epoch 21/500\n",
      "18/18 [==============================] - 0s 23ms/step - loss: 7339875840.0000 - rmse: 83711.1641 - mse: 7339875840.0000 - val_loss: 4326980608.0000 - val_rmse: 64826.9219 - val_mse: 4326980608.0000\n",
      "Epoch 22/500\n",
      "18/18 [==============================] - 0s 22ms/step - loss: 7400108544.0000 - rmse: 83630.0781 - mse: 7400108544.0000 - val_loss: 4832832000.0000 - val_rmse: 68345.4141 - val_mse: 4832832000.0000\n",
      "Epoch 23/500\n",
      "18/18 [==============================] - 0s 20ms/step - loss: 6916866048.0000 - rmse: 81058.7266 - mse: 6916866048.0000 - val_loss: 4529581568.0000 - val_rmse: 66102.9453 - val_mse: 4529581568.0000\n",
      "Epoch 24/500\n",
      "18/18 [==============================] - 0s 23ms/step - loss: 6281413120.0000 - rmse: 77365.5078 - mse: 6281413120.0000 - val_loss: 4298376192.0000 - val_rmse: 64446.5781 - val_mse: 4298376192.0000\n",
      "Epoch 25/500\n",
      "18/18 [==============================] - 0s 23ms/step - loss: 6254832128.0000 - rmse: 77275.8047 - mse: 6254832128.0000 - val_loss: 4598763008.0000 - val_rmse: 66515.2422 - val_mse: 4598763008.0000\n",
      "Epoch 26/500\n",
      "18/18 [==============================] - 0s 24ms/step - loss: 5895241216.0000 - rmse: 73346.8984 - mse: 5895241216.0000 - val_loss: 4083940352.0000 - val_rmse: 62941.4141 - val_mse: 4083940352.0000\n",
      "Epoch 27/500\n",
      "18/18 [==============================] - 0s 19ms/step - loss: 5898992128.0000 - rmse: 74881.6953 - mse: 5898992128.0000 - val_loss: 4478077952.0000 - val_rmse: 65505.6445 - val_mse: 4478077952.0000\n",
      "Epoch 28/500\n",
      "18/18 [==============================] - 0s 19ms/step - loss: 5533044224.0000 - rmse: 71878.5312 - mse: 5533044224.0000 - val_loss: 4425651200.0000 - val_rmse: 65112.1133 - val_mse: 4425651200.0000\n",
      "Epoch 29/500\n",
      "18/18 [==============================] - 0s 19ms/step - loss: 5856286720.0000 - rmse: 74857.2969 - mse: 5856286720.0000 - val_loss: 4080701184.0000 - val_rmse: 62863.5703 - val_mse: 4080701184.0000\n",
      "Epoch 30/500\n",
      "18/18 [==============================] - 0s 20ms/step - loss: 5590112256.0000 - rmse: 72076.9531 - mse: 5590112256.0000 - val_loss: 4055038208.0000 - val_rmse: 62553.7461 - val_mse: 4055038208.0000\n",
      "Epoch 31/500\n",
      "18/18 [==============================] - 0s 17ms/step - loss: 6098235904.0000 - rmse: 76558.7188 - mse: 6098235904.0000 - val_loss: 4259333888.0000 - val_rmse: 63852.9453 - val_mse: 4259333888.0000\n",
      "Epoch 32/500\n",
      "18/18 [==============================] - 0s 16ms/step - loss: 5714087936.0000 - rmse: 72877.4531 - mse: 5714087936.0000 - val_loss: 3966113536.0000 - val_rmse: 61806.0859 - val_mse: 3966113536.0000\n",
      "Epoch 33/500\n",
      "18/18 [==============================] - 0s 19ms/step - loss: 6043736576.0000 - rmse: 76413.7188 - mse: 6043736576.0000 - val_loss: 4065157120.0000 - val_rmse: 62330.3398 - val_mse: 4065157120.0000\n",
      "Epoch 34/500\n",
      "18/18 [==============================] - 0s 18ms/step - loss: 5366806016.0000 - rmse: 71852.6875 - mse: 5366806016.0000 - val_loss: 4587431424.0000 - val_rmse: 65757.8125 - val_mse: 4587431424.0000\n",
      "Epoch 35/500\n",
      "18/18 [==============================] - 0s 19ms/step - loss: 5502600192.0000 - rmse: 72800.3438 - mse: 5502600192.0000 - val_loss: 3909273088.0000 - val_rmse: 61442.0156 - val_mse: 3909273088.0000\n",
      "Epoch 36/500\n",
      "18/18 [==============================] - 0s 20ms/step - loss: 5937908736.0000 - rmse: 74873.4688 - mse: 5937908736.0000 - val_loss: 4478139392.0000 - val_rmse: 65049.3047 - val_mse: 4478139392.0000\n",
      "Epoch 37/500\n",
      "18/18 [==============================] - 0s 15ms/step - loss: 5461203968.0000 - rmse: 72469.8281 - mse: 5461203968.0000 - val_loss: 4294371840.0000 - val_rmse: 63791.4375 - val_mse: 4294371840.0000\n",
      "Epoch 38/500\n",
      "18/18 [==============================] - 0s 19ms/step - loss: 5660366336.0000 - rmse: 72376.3750 - mse: 5660366336.0000 - val_loss: 3994193408.0000 - val_rmse: 61690.0625 - val_mse: 3994193408.0000\n",
      "Epoch 39/500\n"
     ]
    },
    {
     "name": "stdout",
     "output_type": "stream",
     "text": [
      "18/18 [==============================] - 0s 17ms/step - loss: 4584249856.0000 - rmse: 65958.8594 - mse: 4584249856.0000 - val_loss: 3944370432.0000 - val_rmse: 61234.9453 - val_mse: 3944370432.0000\n",
      "Epoch 40/500\n",
      "18/18 [==============================] - 0s 17ms/step - loss: 5424148480.0000 - rmse: 72240.3438 - mse: 5424148480.0000 - val_loss: 3833562880.0000 - val_rmse: 60609.8789 - val_mse: 3833562880.0000\n",
      "Epoch 41/500\n",
      "18/18 [==============================] - 0s 16ms/step - loss: 4664179200.0000 - rmse: 66168.2812 - mse: 4664179200.0000 - val_loss: 4241362944.0000 - val_rmse: 63196.4219 - val_mse: 4241362944.0000\n",
      "Epoch 42/500\n",
      "18/18 [==============================] - 0s 17ms/step - loss: 4674291712.0000 - rmse: 66686.6719 - mse: 4674291712.0000 - val_loss: 4535481344.0000 - val_rmse: 65100.0195 - val_mse: 4535481344.0000\n",
      "Epoch 43/500\n",
      "18/18 [==============================] - 0s 17ms/step - loss: 6249242624.0000 - rmse: 75918.8516 - mse: 6249242624.0000 - val_loss: 3995696384.0000 - val_rmse: 62068.3008 - val_mse: 3995696384.0000\n",
      "Epoch 44/500\n",
      "18/18 [==============================] - 0s 16ms/step - loss: 4896584704.0000 - rmse: 67659.9453 - mse: 4896584704.0000 - val_loss: 4143500544.0000 - val_rmse: 62945.0625 - val_mse: 4143500544.0000\n",
      "Epoch 45/500\n",
      "18/18 [==============================] - 0s 15ms/step - loss: 4842755584.0000 - rmse: 66120.9297 - mse: 4842755584.0000 - val_loss: 3769007104.0000 - val_rmse: 60408.4375 - val_mse: 3769007104.0000\n",
      "Epoch 46/500\n",
      "18/18 [==============================] - 0s 16ms/step - loss: 5035390464.0000 - rmse: 68827.4297 - mse: 5035390464.0000 - val_loss: 4012231936.0000 - val_rmse: 61668.7227 - val_mse: 4012231936.0000\n",
      "Epoch 47/500\n",
      "18/18 [==============================] - 0s 16ms/step - loss: 5188752384.0000 - rmse: 70204.7344 - mse: 5188752384.0000 - val_loss: 3953269504.0000 - val_rmse: 61346.4258 - val_mse: 3953269504.0000\n",
      "Epoch 48/500\n",
      "18/18 [==============================] - 0s 17ms/step - loss: 3989223680.0000 - rmse: 62403.5898 - mse: 3989223680.0000 - val_loss: 3781949696.0000 - val_rmse: 60539.6836 - val_mse: 3781949696.0000\n",
      "Epoch 49/500\n",
      "18/18 [==============================] - 0s 17ms/step - loss: 5207337984.0000 - rmse: 70077.3672 - mse: 5207337984.0000 - val_loss: 4089220864.0000 - val_rmse: 62421.6875 - val_mse: 4089220864.0000\n",
      "Epoch 50/500\n",
      "18/18 [==============================] - 0s 16ms/step - loss: 4794460672.0000 - rmse: 67625.7188 - mse: 4794460672.0000 - val_loss: 3990567424.0000 - val_rmse: 61870.7344 - val_mse: 3990567424.0000\n",
      "Epoch 51/500\n",
      "18/18 [==============================] - 0s 17ms/step - loss: 3516980224.0000 - rmse: 56740.1016 - mse: 3516980224.0000 - val_loss: 3921358336.0000 - val_rmse: 61310.3047 - val_mse: 3921358336.0000\n",
      "Epoch 52/500\n",
      "18/18 [==============================] - 0s 16ms/step - loss: 4733088256.0000 - rmse: 66748.6641 - mse: 4733088256.0000 - val_loss: 3931221248.0000 - val_rmse: 61342.9688 - val_mse: 3931221248.0000\n",
      "Epoch 53/500\n",
      "18/18 [==============================] - 0s 15ms/step - loss: 5222383616.0000 - rmse: 70932.2266 - mse: 5222383616.0000 - val_loss: 4051093504.0000 - val_rmse: 62204.7539 - val_mse: 4051093504.0000\n",
      "Epoch 54/500\n",
      "18/18 [==============================] - 0s 15ms/step - loss: 5148000256.0000 - rmse: 70233.2734 - mse: 5148000256.0000 - val_loss: 3973141248.0000 - val_rmse: 61583.3555 - val_mse: 3973141248.0000\n",
      "Epoch 55/500\n",
      "18/18 [==============================] - 0s 13ms/step - loss: 4724548608.0000 - rmse: 66935.0938 - mse: 4724548608.0000 - val_loss: 4018856704.0000 - val_rmse: 61923.8047 - val_mse: 4018856704.0000\n",
      "Epoch 56/500\n",
      "18/18 [==============================] - 0s 13ms/step - loss: 4050236160.0000 - rmse: 62129.4922 - mse: 4050236160.0000 - val_loss: 4084545280.0000 - val_rmse: 62335.0000 - val_mse: 4084545280.0000\n",
      "Epoch 57/500\n",
      "18/18 [==============================] - 0s 13ms/step - loss: 4439364096.0000 - rmse: 63268.9727 - mse: 4439364096.0000 - val_loss: 4173891840.0000 - val_rmse: 62955.9492 - val_mse: 4173891840.0000\n",
      "Epoch 58/500\n",
      "18/18 [==============================] - 0s 13ms/step - loss: 4177378816.0000 - rmse: 61910.5977 - mse: 4177378816.0000 - val_loss: 4041244928.0000 - val_rmse: 62630.4453 - val_mse: 4041244928.0000\n",
      "Epoch 59/500\n",
      "18/18 [==============================] - 0s 13ms/step - loss: 4889678336.0000 - rmse: 66834.7812 - mse: 4889678336.0000 - val_loss: 4667593216.0000 - val_rmse: 66009.2891 - val_mse: 4667593216.0000\n",
      "Epoch 60/500\n",
      "18/18 [==============================] - 0s 13ms/step - loss: 4903474176.0000 - rmse: 68020.6172 - mse: 4903474176.0000 - val_loss: 4139935488.0000 - val_rmse: 62754.6953 - val_mse: 4139935488.0000\n",
      "Epoch 61/500\n",
      "18/18 [==============================] - 0s 13ms/step - loss: 3812023808.0000 - rmse: 59188.8047 - mse: 3812023808.0000 - val_loss: 4222538240.0000 - val_rmse: 63217.3047 - val_mse: 4222538240.0000\n",
      "Epoch 62/500\n",
      "18/18 [==============================] - 0s 13ms/step - loss: 4127972352.0000 - rmse: 63083.2031 - mse: 4127972352.0000 - val_loss: 4103940864.0000 - val_rmse: 62546.8086 - val_mse: 4103940864.0000\n",
      "Epoch 63/500\n",
      "18/18 [==============================] - 0s 13ms/step - loss: 4830436352.0000 - rmse: 68266.6250 - mse: 4830436352.0000 - val_loss: 4076454656.0000 - val_rmse: 62518.9688 - val_mse: 4076454656.0000\n",
      "Epoch 64/500\n",
      "18/18 [==============================] - 0s 13ms/step - loss: 3502825728.0000 - rmse: 57452.4844 - mse: 3502825728.0000 - val_loss: 4336093696.0000 - val_rmse: 63969.1133 - val_mse: 4336093696.0000\n",
      "Epoch 65/500\n",
      "18/18 [==============================] - 0s 13ms/step - loss: 3757503488.0000 - rmse: 59677.3672 - mse: 3757503488.0000 - val_loss: 4115006720.0000 - val_rmse: 62528.5508 - val_mse: 4115006720.0000\n"
     ]
    }
   ],
   "source": [
    "#training the model\n",
    "history = training_model.fit(preprocessed_train_ds,\n",
    "                    validation_data=preprocessed_val_ds,\n",
    "                    epochs=NUM_EVALS,\n",
    "                    steps_per_epoch=steps_per_epoch,\n",
    "                    callbacks=[early_stopping]\n",
    "                    )"
   ]
  },
  {
   "cell_type": "code",
   "execution_count": 25,
   "id": "277a1ab9",
   "metadata": {},
   "outputs": [],
   "source": [
    "def plot_curves(history, metrics):\n",
    "    nrows = 1\n",
    "    ncols = 2\n",
    "    fig = plt.figure(figsize=(10, 5))\n",
    "\n",
    "    for idx, key in enumerate(metrics):  \n",
    "        ax = fig.add_subplot(nrows, ncols, idx+1)\n",
    "        plt.plot(history.history[key])\n",
    "        plt.plot(history.history['val_{}'.format(key)])\n",
    "        plt.title('model {}'.format(key))\n",
    "        plt.ylabel(key)\n",
    "        plt.xlabel('epoch')\n",
    "        plt.legend(['train', 'validation'], loc='upper right');    "
   ]
  },
  {
   "cell_type": "code",
   "execution_count": 26,
   "id": "0ff47d31",
   "metadata": {},
   "outputs": [
    {
     "data": {
      "image/png": "[encoded data removed]",
      "text/plain": [
       "<Figure size 1000x500 with 2 Axes>"
      ]
     },
     "metadata": {},
     "output_type": "display_data"
    }
   ],
   "source": [
    "plot_curves(history, ['loss', 'mse'])"
   ]
  },
  {
   "cell_type": "code",
   "execution_count": 27,
   "id": "2baa6af9",
   "metadata": {},
   "outputs": [],
   "source": [
    "#creating a sample data\n",
    "sample = {\n",
    "    \"year\":tf.convert_to_tensor([2010.]),\n",
    "    \"model\":tf.convert_to_tensor(['gulet']),\n",
    "    \"category\":tf.convert_to_tensor(['schoner']),\n",
    "    \"length\":tf.convert_to_tensor([83.]),\n",
    "    \"fuel_type\":tf.convert_to_tensor(['diesel']),\n",
    "    \"hull_material\":tf.convert_to_tensor(['steel']),\n",
    "    \"country\":tf.convert_to_tensor(['turkey']),\n",
    "    \"noun_counts\":tf.convert_to_tensor([20.]),\n",
    "    \"verb_counts\":tf.convert_to_tensor([20.]),\n",
    "    \"adjective_counts\":tf.convert_to_tensor([20.]),\n",
    "    \"bilge_pump\":tf.convert_to_tensor([1.]),\n",
    "    \"deck_finish\":tf.convert_to_tensor([0.]),\n",
    "    \"fuel_tank\":tf.convert_to_tensor([1.]),\n",
    "    \"level_indicator\":tf.convert_to_tensor([1.]),\n",
    "    \"material_grp\":tf.convert_to_tensor([0.]),\n",
    "    \"mehr_anzeigen\":tf.convert_to_tensor([0.]),\n",
    "    \"sailing_yacht\":tf.convert_to_tensor([1.]),\n",
    "    \"stainless_steel\":tf.convert_to_tensor([0.]),\n",
    "    \"tank_litre\":tf.convert_to_tensor([1.]),\n",
    "    \"teak_cockpit\":tf.convert_to_tensor([1.]),\n",
    "    \"avg_price_by_hull_material\":tf.convert_to_tensor([173764.8396226415]),\n",
    "    \"avg_price_by_fuel_type\":tf.convert_to_tensor([172121.64462209304]),\n",
    "    \"avg_price_by_category\":tf.convert_to_tensor([476125.0]),\n",
    "    \n",
    "}"
   ]
  },
  {
   "cell_type": "code",
   "execution_count": 28,
   "id": "733d9945",
   "metadata": {},
   "outputs": [
    {
     "name": "stdout",
     "output_type": "stream",
     "text": [
      "1/1 [==============================] - 0s 357ms/step\n",
      "3150903.2\n"
     ]
    }
   ],
   "source": [
    "predictions = inference_model.predict(sample)\n",
    "print(predictions[0][0])"
   ]
  },
  {
   "cell_type": "code",
   "execution_count": 29,
   "id": "0065aca5",
   "metadata": {},
   "outputs": [],
   "source": [
    "from tensorflow.keras.models import save_model, load_model"
   ]
  },
  {
   "cell_type": "code",
   "execution_count": 30,
   "id": "e088c476",
   "metadata": {},
   "outputs": [],
   "source": [
    "inference_model.save(\"custom_model.keras\")"
   ]
  },
  {
   "cell_type": "code",
   "execution_count": 34,
   "id": "e18469af",
   "metadata": {},
   "outputs": [],
   "source": [
    "reconstructed_model = load_model(\"custom_model.keras\")"
   ]
  },
  {
   "cell_type": "code",
   "execution_count": 33,
   "id": "83a33963",
   "metadata": {},
   "outputs": [
    {
     "name": "stdout",
     "output_type": "stream",
     "text": [
      "1/1 [==============================] - 0s 303ms/step\n"
     ]
    },
    {
     "data": {
      "text/plain": [
       "array([[3024842.2]], dtype=float32)"
      ]
     },
     "execution_count": 33,
     "metadata": {},
     "output_type": "execute_result"
    }
   ],
   "source": [
    "reconstructed_model.predict(sample)"
   ]
  }
 ],
 "metadata": {
  "kernelspec": {
   "display_name": "ML Projects Env",
   "language": "python",
   "name": "mlprojects_env"
  },
  "language_info": {
   "codemirror_mode": {
    "name": "ipython",
    "version": 3
   },
   "file_extension": ".py",
   "mimetype": "text/x-python",
   "name": "python",
   "nbconvert_exporter": "python",
   "pygments_lexer": "ipython3",
   "version": "3.11.4"
  }
 },
 "nbformat": 4,
 "nbformat_minor": 5
}
